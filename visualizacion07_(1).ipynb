{
  "nbformat": 4,
  "nbformat_minor": 0,
  "metadata": {
    "colab": {
      "name": "visualizacion07 (1).ipynb",
      "provenance": [],
      "collapsed_sections": [],
      "toc_visible": true,
      "include_colab_link": true
    },
    "kernelspec": {
      "display_name": "Python 3",
      "language": "python",
      "name": "python3"
    },
    "language_info": {
      "codemirror_mode": {
        "name": "ipython",
        "version": 3
      },
      "file_extension": ".py",
      "mimetype": "text/x-python",
      "name": "python",
      "nbconvert_exporter": "python",
      "pygments_lexer": "ipython3",
      "version": "3.8.5"
    }
  },
  "cells": [
    {
      "cell_type": "markdown",
      "metadata": {
        "id": "view-in-github",
        "colab_type": "text"
      },
      "source": [
        "<a href=\"https://colab.research.google.com/github/paolaim/mineria-datos/blob/gh-pages/visualizacion07_(1).ipynb\" target=\"_parent\"><img src=\"https://colab.research.google.com/assets/colab-badge.svg\" alt=\"Open In Colab\"/></a>"
      ]
    },
    {
      "cell_type": "markdown",
      "metadata": {
        "id": "IuKId19ey67E"
      },
      "source": [
        "#**Equipo: 7**\n",
        "\n",
        "##**Grupo: 003 - Lunes 6:00 pm - 9:00 pm**\n",
        "\n",
        "##**Integrantes:**\n",
        "\n",
        "- 1744128, Blanco Gonzalez, Reyna Yarelli\n",
        "- 1723446, Garza Alvarez, Aaron Emmanuel\n",
        "- 1731502, Ibarra Medrano, Paola\n",
        "- 1799361, Lucas Belmar, Marissa Aleida\n"
      ]
    },
    {
      "cell_type": "markdown",
      "metadata": {
        "id": "IuvH_G8I0k0d"
      },
      "source": [
        "## 1) Título y URL de la base de datos\n",
        "\n",
        "- World Happiness Report up to 2020\n",
        "\n",
        "- https://www.kaggle.com/mathurinache/world-happiness-report"
      ]
    },
    {
      "cell_type": "code",
      "metadata": {
        "id": "7wMjClf90kXn"
      },
      "source": [
        "import pandas as pd "
      ],
      "execution_count": 77,
      "outputs": []
    },
    {
      "cell_type": "code",
      "metadata": {
        "id": "OZP0oOOrzOSE"
      },
      "source": [
        "tb = pd.read_csv ('/content/2015_2019_2020_limpia.csv')"
      ],
      "execution_count": 78,
      "outputs": []
    },
    {
      "cell_type": "markdown",
      "metadata": {
        "id": "5AqV0Qw1Bb7T"
      },
      "source": [
        "\n",
        "\n",
        "##visualización "
      ]
    },
    {
      "cell_type": "code",
      "metadata": {
        "colab": {
          "base_uri": "https://localhost:8080/"
        },
        "id": "LgeSYctz1JJb",
        "outputId": "69e4e0b6-e601-4890-ce82-7deab89c26e6"
      },
      "source": [
        "tb.shape"
      ],
      "execution_count": 79,
      "outputs": [
        {
          "output_type": "execute_result",
          "data": {
            "text/plain": [
              "(4, 18)"
            ]
          },
          "metadata": {
            "tags": []
          },
          "execution_count": 79
        }
      ]
    },
    {
      "cell_type": "code",
      "metadata": {
        "colab": {
          "base_uri": "https://localhost:8080/",
          "height": 278
        },
        "id": "6P-nxuU01KWc",
        "outputId": "651c88ed-47e2-41b7-8a7a-665946e929c0"
      },
      "source": [
        "tb.head(4)"
      ],
      "execution_count": 80,
      "outputs": [
        {
          "output_type": "execute_result",
          "data": {
            "text/html": [
              "<div>\n",
              "<style scoped>\n",
              "    .dataframe tbody tr th:only-of-type {\n",
              "        vertical-align: middle;\n",
              "    }\n",
              "\n",
              "    .dataframe tbody tr th {\n",
              "        vertical-align: top;\n",
              "    }\n",
              "\n",
              "    .dataframe thead th {\n",
              "        text-align: right;\n",
              "    }\n",
              "</style>\n",
              "<table border=\"1\" class=\"dataframe\">\n",
              "  <thead>\n",
              "    <tr style=\"text-align: right;\">\n",
              "      <th></th>\n",
              "      <th>Country</th>\n",
              "      <th>Happiness Rank</th>\n",
              "      <th>Happiness Score</th>\n",
              "      <th>Economy (GDP per Capita)</th>\n",
              "      <th>Trust (Government Corruption)</th>\n",
              "      <th>Unnamed: 5</th>\n",
              "      <th>Unnamed: 6</th>\n",
              "      <th>Country or region</th>\n",
              "      <th>Overall rank</th>\n",
              "      <th>Happiness Score.1</th>\n",
              "      <th>GDP per capita</th>\n",
              "      <th>Perceptions of corruption</th>\n",
              "      <th>Unnamed: 12</th>\n",
              "      <th>Country name</th>\n",
              "      <th>Overall rank.1</th>\n",
              "      <th>Happiness Score.2</th>\n",
              "      <th>Logged GDP per capita</th>\n",
              "      <th>Perceptions of corruption.1</th>\n",
              "    </tr>\n",
              "  </thead>\n",
              "  <tbody>\n",
              "    <tr>\n",
              "      <th>0</th>\n",
              "      <td>Switzerland</td>\n",
              "      <td>1</td>\n",
              "      <td>7.587</td>\n",
              "      <td>1.39651</td>\n",
              "      <td>0.41978</td>\n",
              "      <td>NaN</td>\n",
              "      <td>NaN</td>\n",
              "      <td>Finland</td>\n",
              "      <td>1</td>\n",
              "      <td>7.769</td>\n",
              "      <td>1.340</td>\n",
              "      <td>0.393</td>\n",
              "      <td>NaN</td>\n",
              "      <td>Finland</td>\n",
              "      <td>1</td>\n",
              "      <td>7.8087</td>\n",
              "      <td>10.639267</td>\n",
              "      <td>0.195445</td>\n",
              "    </tr>\n",
              "    <tr>\n",
              "      <th>1</th>\n",
              "      <td>Mexico</td>\n",
              "      <td>14</td>\n",
              "      <td>7.187</td>\n",
              "      <td>1.02054</td>\n",
              "      <td>0.21312</td>\n",
              "      <td>NaN</td>\n",
              "      <td>NaN</td>\n",
              "      <td>United States</td>\n",
              "      <td>19</td>\n",
              "      <td>6.892</td>\n",
              "      <td>1.433</td>\n",
              "      <td>0.128</td>\n",
              "      <td>NaN</td>\n",
              "      <td>United States</td>\n",
              "      <td>18</td>\n",
              "      <td>6.9396</td>\n",
              "      <td>10.925769</td>\n",
              "      <td>0.699715</td>\n",
              "    </tr>\n",
              "    <tr>\n",
              "      <th>2</th>\n",
              "      <td>United States</td>\n",
              "      <td>15</td>\n",
              "      <td>7.119</td>\n",
              "      <td>1.39451</td>\n",
              "      <td>0.15890</td>\n",
              "      <td>NaN</td>\n",
              "      <td>NaN</td>\n",
              "      <td>Mexico</td>\n",
              "      <td>23</td>\n",
              "      <td>6.595</td>\n",
              "      <td>1.070</td>\n",
              "      <td>0.073</td>\n",
              "      <td>NaN</td>\n",
              "      <td>Mexico</td>\n",
              "      <td>24</td>\n",
              "      <td>6.4650</td>\n",
              "      <td>9.797797</td>\n",
              "      <td>0.806822</td>\n",
              "    </tr>\n",
              "    <tr>\n",
              "      <th>3</th>\n",
              "      <td>Guatemala</td>\n",
              "      <td>43</td>\n",
              "      <td>6.123</td>\n",
              "      <td>0.74553</td>\n",
              "      <td>0.09472</td>\n",
              "      <td>NaN</td>\n",
              "      <td>NaN</td>\n",
              "      <td>Guatemala</td>\n",
              "      <td>27</td>\n",
              "      <td>6.436</td>\n",
              "      <td>0.800</td>\n",
              "      <td>0.078</td>\n",
              "      <td>NaN</td>\n",
              "      <td>Guatemala</td>\n",
              "      <td>29</td>\n",
              "      <td>6.3989</td>\n",
              "      <td>8.924806</td>\n",
              "      <td>0.783237</td>\n",
              "    </tr>\n",
              "  </tbody>\n",
              "</table>\n",
              "</div>"
            ],
            "text/plain": [
              "         Country  ...  Perceptions of corruption.1\n",
              "0    Switzerland  ...                     0.195445\n",
              "1         Mexico  ...                     0.699715\n",
              "2  United States  ...                     0.806822\n",
              "3      Guatemala  ...                     0.783237\n",
              "\n",
              "[4 rows x 18 columns]"
            ]
          },
          "metadata": {
            "tags": []
          },
          "execution_count": 80
        }
      ]
    },
    {
      "cell_type": "markdown",
      "metadata": {
        "id": "l0sraMR08ESa"
      },
      "source": [
        "# **BASE DE DATOS 2015**"
      ]
    },
    {
      "cell_type": "code",
      "metadata": {
        "colab": {
          "base_uri": "https://localhost:8080/",
          "height": 173
        },
        "id": "gtd749581uet",
        "outputId": "7db7fe9c-fd16-487c-c408-23b512ca2aba"
      },
      "source": [
        "data = {'Country': ['Switzerland', 'Mexico', 'United States', 'Guatemala'], \n",
        "        'Happiness Rank': [1, 14, 15, 43],\n",
        "        'Happiness Score': [7.587\t, 7.187, 7.119, 6.123],\n",
        "        'Economy (GDP per Capita)': [1.39651, 1.02054, 1.39451, .74553],\n",
        "        'Trust (Government Corruption)': [0.41978, 0.21312, 0.15890, 0.09472],}\n",
        "        #'Dystopia residual': [2.51738, 3.60214, 2.51011, 2.74255]}\n",
        "df = pd.DataFrame(data, columns = ['Country', 'Happiness Rank', 'Happiness Score', 'Economy (GDP per Capita)', 'Trust (Government Corruption)'])\n",
        "df"
      ],
      "execution_count": 81,
      "outputs": [
        {
          "output_type": "execute_result",
          "data": {
            "text/html": [
              "<div>\n",
              "<style scoped>\n",
              "    .dataframe tbody tr th:only-of-type {\n",
              "        vertical-align: middle;\n",
              "    }\n",
              "\n",
              "    .dataframe tbody tr th {\n",
              "        vertical-align: top;\n",
              "    }\n",
              "\n",
              "    .dataframe thead th {\n",
              "        text-align: right;\n",
              "    }\n",
              "</style>\n",
              "<table border=\"1\" class=\"dataframe\">\n",
              "  <thead>\n",
              "    <tr style=\"text-align: right;\">\n",
              "      <th></th>\n",
              "      <th>Country</th>\n",
              "      <th>Happiness Rank</th>\n",
              "      <th>Happiness Score</th>\n",
              "      <th>Economy (GDP per Capita)</th>\n",
              "      <th>Trust (Government Corruption)</th>\n",
              "    </tr>\n",
              "  </thead>\n",
              "  <tbody>\n",
              "    <tr>\n",
              "      <th>0</th>\n",
              "      <td>Switzerland</td>\n",
              "      <td>1</td>\n",
              "      <td>7.587</td>\n",
              "      <td>1.39651</td>\n",
              "      <td>0.41978</td>\n",
              "    </tr>\n",
              "    <tr>\n",
              "      <th>1</th>\n",
              "      <td>Mexico</td>\n",
              "      <td>14</td>\n",
              "      <td>7.187</td>\n",
              "      <td>1.02054</td>\n",
              "      <td>0.21312</td>\n",
              "    </tr>\n",
              "    <tr>\n",
              "      <th>2</th>\n",
              "      <td>United States</td>\n",
              "      <td>15</td>\n",
              "      <td>7.119</td>\n",
              "      <td>1.39451</td>\n",
              "      <td>0.15890</td>\n",
              "    </tr>\n",
              "    <tr>\n",
              "      <th>3</th>\n",
              "      <td>Guatemala</td>\n",
              "      <td>43</td>\n",
              "      <td>6.123</td>\n",
              "      <td>0.74553</td>\n",
              "      <td>0.09472</td>\n",
              "    </tr>\n",
              "  </tbody>\n",
              "</table>\n",
              "</div>"
            ],
            "text/plain": [
              "         Country  ...  Trust (Government Corruption)\n",
              "0    Switzerland  ...                        0.41978\n",
              "1         Mexico  ...                        0.21312\n",
              "2  United States  ...                        0.15890\n",
              "3      Guatemala  ...                        0.09472\n",
              "\n",
              "[4 rows x 5 columns]"
            ]
          },
          "metadata": {
            "tags": []
          },
          "execution_count": 81
        }
      ]
    },
    {
      "cell_type": "code",
      "metadata": {
        "id": "xN59gFo9gmEQ",
        "colab": {
          "base_uri": "https://localhost:8080/",
          "height": 309
        },
        "outputId": "d4e4c38c-1558-4759-d2bd-a6e30f0f0c7f"
      },
      "source": [
        "import matplotlib as plt\n",
        "import pandas as pd\n",
        "%matplotlib inline\n",
        "graf1 = pd.read_csv(\"/content/2015_2019_2020_limpia.csv\", index_col=0)\n",
        "graf1.head(4)"
      ],
      "execution_count": 164,
      "outputs": [
        {
          "output_type": "execute_result",
          "data": {
            "text/html": [
              "<div>\n",
              "<style scoped>\n",
              "    .dataframe tbody tr th:only-of-type {\n",
              "        vertical-align: middle;\n",
              "    }\n",
              "\n",
              "    .dataframe tbody tr th {\n",
              "        vertical-align: top;\n",
              "    }\n",
              "\n",
              "    .dataframe thead th {\n",
              "        text-align: right;\n",
              "    }\n",
              "</style>\n",
              "<table border=\"1\" class=\"dataframe\">\n",
              "  <thead>\n",
              "    <tr style=\"text-align: right;\">\n",
              "      <th></th>\n",
              "      <th>Happiness Rank</th>\n",
              "      <th>Happiness Score</th>\n",
              "      <th>Economy (GDP per Capita)</th>\n",
              "      <th>Trust (Government Corruption)</th>\n",
              "      <th>Unnamed: 5</th>\n",
              "      <th>Unnamed: 6</th>\n",
              "      <th>Country or region</th>\n",
              "      <th>Overall rank</th>\n",
              "      <th>Happiness Score.1</th>\n",
              "      <th>GDP per capita</th>\n",
              "      <th>Perceptions of corruption</th>\n",
              "      <th>Unnamed: 12</th>\n",
              "      <th>Country name</th>\n",
              "      <th>Overall rank.1</th>\n",
              "      <th>Happiness Score.2</th>\n",
              "      <th>Logged GDP per capita</th>\n",
              "      <th>Perceptions of corruption.1</th>\n",
              "    </tr>\n",
              "    <tr>\n",
              "      <th>Country</th>\n",
              "      <th></th>\n",
              "      <th></th>\n",
              "      <th></th>\n",
              "      <th></th>\n",
              "      <th></th>\n",
              "      <th></th>\n",
              "      <th></th>\n",
              "      <th></th>\n",
              "      <th></th>\n",
              "      <th></th>\n",
              "      <th></th>\n",
              "      <th></th>\n",
              "      <th></th>\n",
              "      <th></th>\n",
              "      <th></th>\n",
              "      <th></th>\n",
              "      <th></th>\n",
              "    </tr>\n",
              "  </thead>\n",
              "  <tbody>\n",
              "    <tr>\n",
              "      <th>Switzerland</th>\n",
              "      <td>1</td>\n",
              "      <td>7.587</td>\n",
              "      <td>1.39651</td>\n",
              "      <td>0.41978</td>\n",
              "      <td>NaN</td>\n",
              "      <td>NaN</td>\n",
              "      <td>Finland</td>\n",
              "      <td>1</td>\n",
              "      <td>7.769</td>\n",
              "      <td>1.340</td>\n",
              "      <td>0.393</td>\n",
              "      <td>NaN</td>\n",
              "      <td>Finland</td>\n",
              "      <td>1</td>\n",
              "      <td>7.8087</td>\n",
              "      <td>10.639267</td>\n",
              "      <td>0.195445</td>\n",
              "    </tr>\n",
              "    <tr>\n",
              "      <th>Mexico</th>\n",
              "      <td>14</td>\n",
              "      <td>7.187</td>\n",
              "      <td>1.02054</td>\n",
              "      <td>0.21312</td>\n",
              "      <td>NaN</td>\n",
              "      <td>NaN</td>\n",
              "      <td>United States</td>\n",
              "      <td>19</td>\n",
              "      <td>6.892</td>\n",
              "      <td>1.433</td>\n",
              "      <td>0.128</td>\n",
              "      <td>NaN</td>\n",
              "      <td>United States</td>\n",
              "      <td>18</td>\n",
              "      <td>6.9396</td>\n",
              "      <td>10.925769</td>\n",
              "      <td>0.699715</td>\n",
              "    </tr>\n",
              "    <tr>\n",
              "      <th>United States</th>\n",
              "      <td>15</td>\n",
              "      <td>7.119</td>\n",
              "      <td>1.39451</td>\n",
              "      <td>0.15890</td>\n",
              "      <td>NaN</td>\n",
              "      <td>NaN</td>\n",
              "      <td>Mexico</td>\n",
              "      <td>23</td>\n",
              "      <td>6.595</td>\n",
              "      <td>1.070</td>\n",
              "      <td>0.073</td>\n",
              "      <td>NaN</td>\n",
              "      <td>Mexico</td>\n",
              "      <td>24</td>\n",
              "      <td>6.4650</td>\n",
              "      <td>9.797797</td>\n",
              "      <td>0.806822</td>\n",
              "    </tr>\n",
              "    <tr>\n",
              "      <th>Guatemala</th>\n",
              "      <td>43</td>\n",
              "      <td>6.123</td>\n",
              "      <td>0.74553</td>\n",
              "      <td>0.09472</td>\n",
              "      <td>NaN</td>\n",
              "      <td>NaN</td>\n",
              "      <td>Guatemala</td>\n",
              "      <td>27</td>\n",
              "      <td>6.436</td>\n",
              "      <td>0.800</td>\n",
              "      <td>0.078</td>\n",
              "      <td>NaN</td>\n",
              "      <td>Guatemala</td>\n",
              "      <td>29</td>\n",
              "      <td>6.3989</td>\n",
              "      <td>8.924806</td>\n",
              "      <td>0.783237</td>\n",
              "    </tr>\n",
              "  </tbody>\n",
              "</table>\n",
              "</div>"
            ],
            "text/plain": [
              "               Happiness Rank  ...  Perceptions of corruption.1\n",
              "Country                        ...                             \n",
              "Switzerland                 1  ...                     0.195445\n",
              "Mexico                     14  ...                     0.699715\n",
              "United States              15  ...                     0.806822\n",
              "Guatemala                  43  ...                     0.783237\n",
              "\n",
              "[4 rows x 17 columns]"
            ]
          },
          "metadata": {
            "tags": []
          },
          "execution_count": 164
        }
      ]
    },
    {
      "cell_type": "markdown",
      "metadata": {
        "id": "j7SrBpfV9-rx"
      },
      "source": [
        "Estadística de puntuación"
      ]
    },
    {
      "cell_type": "code",
      "metadata": {
        "colab": {
          "base_uri": "https://localhost:8080/"
        },
        "id": "imQjNatZ-Fjx",
        "outputId": "00af11cf-e4a4-40bc-cb3d-19b8fe032837"
      },
      "source": [
        "df['Happiness Score'].describe()"
      ],
      "execution_count": 83,
      "outputs": [
        {
          "output_type": "execute_result",
          "data": {
            "text/plain": [
              "count    4.000000\n",
              "mean     7.004000\n",
              "std      0.622566\n",
              "min      6.123000\n",
              "25%      6.870000\n",
              "50%      7.153000\n",
              "75%      7.287000\n",
              "max      7.587000\n",
              "Name: Happiness Score, dtype: float64"
            ]
          },
          "metadata": {
            "tags": []
          },
          "execution_count": 83
        }
      ]
    },
    {
      "cell_type": "code",
      "metadata": {
        "colab": {
          "base_uri": "https://localhost:8080/"
        },
        "id": "0spylT_v-Shf",
        "outputId": "a6d06bc1-838d-4e01-b075-ce0fb65b3045"
      },
      "source": [
        "df['Happiness Score'].median()"
      ],
      "execution_count": 84,
      "outputs": [
        {
          "output_type": "execute_result",
          "data": {
            "text/plain": [
              "7.1530000000000005"
            ]
          },
          "metadata": {
            "tags": []
          },
          "execution_count": 84
        }
      ]
    },
    {
      "cell_type": "code",
      "metadata": {
        "colab": {
          "base_uri": "https://localhost:8080/"
        },
        "id": "XCaJqADO-bmZ",
        "outputId": "f86d6598-17b8-45c1-cccc-d28531b3dc5d"
      },
      "source": [
        "df['Happiness Score'].var()"
      ],
      "execution_count": 85,
      "outputs": [
        {
          "output_type": "execute_result",
          "data": {
            "text/plain": [
              "0.38758799999999977"
            ]
          },
          "metadata": {
            "tags": []
          },
          "execution_count": 85
        }
      ]
    },
    {
      "cell_type": "code",
      "metadata": {
        "colab": {
          "base_uri": "https://localhost:8080/"
        },
        "id": "ohuZ_ydx-ffb",
        "outputId": "397277c1-3f75-44ca-d8aa-49023ca74878"
      },
      "source": [
        "df['Happiness Score'].skew()"
      ],
      "execution_count": 86,
      "outputs": [
        {
          "output_type": "execute_result",
          "data": {
            "text/plain": [
              "-1.3206111758086665"
            ]
          },
          "metadata": {
            "tags": []
          },
          "execution_count": 86
        }
      ]
    },
    {
      "cell_type": "code",
      "metadata": {
        "colab": {
          "base_uri": "https://localhost:8080/"
        },
        "id": "a7GpUXXr_CZY",
        "outputId": "3021f861-f6a1-41a6-992b-7f58f09e0d67"
      },
      "source": [
        "df['Happiness Score'].kurt()"
      ],
      "execution_count": 87,
      "outputs": [
        {
          "output_type": "execute_result",
          "data": {
            "text/plain": [
              "2.459381820805806"
            ]
          },
          "metadata": {
            "tags": []
          },
          "execution_count": 87
        }
      ]
    },
    {
      "cell_type": "code",
      "metadata": {
        "colab": {
          "base_uri": "https://localhost:8080/",
          "height": 142
        },
        "id": "HZKk83_v_dkj",
        "outputId": "4ef6850a-9450-4b7e-b2bf-5914c9431e9c"
      },
      "source": [
        "df.cov()"
      ],
      "execution_count": 140,
      "outputs": [
        {
          "output_type": "execute_result",
          "data": {
            "text/html": [
              "<div>\n",
              "<style scoped>\n",
              "    .dataframe tbody tr th:only-of-type {\n",
              "        vertical-align: middle;\n",
              "    }\n",
              "\n",
              "    .dataframe tbody tr th {\n",
              "        vertical-align: top;\n",
              "    }\n",
              "\n",
              "    .dataframe thead th {\n",
              "        text-align: right;\n",
              "    }\n",
              "</style>\n",
              "<table border=\"1\" class=\"dataframe\">\n",
              "  <thead>\n",
              "    <tr style=\"text-align: right;\">\n",
              "      <th></th>\n",
              "      <th>Happiness Score</th>\n",
              "      <th>Logged GDP per capita</th>\n",
              "      <th>Perceptions of corruption.1</th>\n",
              "    </tr>\n",
              "  </thead>\n",
              "  <tbody>\n",
              "    <tr>\n",
              "      <th>Happiness Score</th>\n",
              "      <td>0.389230</td>\n",
              "      <td>0.389048</td>\n",
              "      <td>-0.175111</td>\n",
              "    </tr>\n",
              "    <tr>\n",
              "      <th>Logged GDP per capita</th>\n",
              "      <td>0.389048</td>\n",
              "      <td>0.813985</td>\n",
              "      <td>-0.137090</td>\n",
              "    </tr>\n",
              "    <tr>\n",
              "      <th>Perceptions of corruption.1</th>\n",
              "      <td>-0.175111</td>\n",
              "      <td>-0.137090</td>\n",
              "      <td>0.082714</td>\n",
              "    </tr>\n",
              "  </tbody>\n",
              "</table>\n",
              "</div>"
            ],
            "text/plain": [
              "                             Happiness Score  ...  Perceptions of corruption.1\n",
              "Happiness Score                     0.389230  ...                    -0.175111\n",
              "Logged GDP per capita               0.389048  ...                    -0.137090\n",
              "Perceptions of corruption.1        -0.175111  ...                     0.082714\n",
              "\n",
              "[3 rows x 3 columns]"
            ]
          },
          "metadata": {
            "tags": []
          },
          "execution_count": 140
        }
      ]
    },
    {
      "cell_type": "code",
      "metadata": {
        "colab": {
          "base_uri": "https://localhost:8080/",
          "height": 142
        },
        "id": "wVK1-l7h_iVu",
        "outputId": "4af65153-8930-44c1-8431-d19562a41afe"
      },
      "source": [
        "df.corr()"
      ],
      "execution_count": 141,
      "outputs": [
        {
          "output_type": "execute_result",
          "data": {
            "text/html": [
              "<div>\n",
              "<style scoped>\n",
              "    .dataframe tbody tr th:only-of-type {\n",
              "        vertical-align: middle;\n",
              "    }\n",
              "\n",
              "    .dataframe tbody tr th {\n",
              "        vertical-align: top;\n",
              "    }\n",
              "\n",
              "    .dataframe thead th {\n",
              "        text-align: right;\n",
              "    }\n",
              "</style>\n",
              "<table border=\"1\" class=\"dataframe\">\n",
              "  <thead>\n",
              "    <tr style=\"text-align: right;\">\n",
              "      <th></th>\n",
              "      <th>Happiness Score</th>\n",
              "      <th>Logged GDP per capita</th>\n",
              "      <th>Perceptions of corruption.1</th>\n",
              "    </tr>\n",
              "  </thead>\n",
              "  <tbody>\n",
              "    <tr>\n",
              "      <th>Happiness Score</th>\n",
              "      <td>1.000000</td>\n",
              "      <td>0.691182</td>\n",
              "      <td>-0.975933</td>\n",
              "    </tr>\n",
              "    <tr>\n",
              "      <th>Logged GDP per capita</th>\n",
              "      <td>0.691182</td>\n",
              "      <td>1.000000</td>\n",
              "      <td>-0.528331</td>\n",
              "    </tr>\n",
              "    <tr>\n",
              "      <th>Perceptions of corruption.1</th>\n",
              "      <td>-0.975933</td>\n",
              "      <td>-0.528331</td>\n",
              "      <td>1.000000</td>\n",
              "    </tr>\n",
              "  </tbody>\n",
              "</table>\n",
              "</div>"
            ],
            "text/plain": [
              "                             Happiness Score  ...  Perceptions of corruption.1\n",
              "Happiness Score                     1.000000  ...                    -0.975933\n",
              "Logged GDP per capita               0.691182  ...                    -0.528331\n",
              "Perceptions of corruption.1        -0.975933  ...                     1.000000\n",
              "\n",
              "[3 rows x 3 columns]"
            ]
          },
          "metadata": {
            "tags": []
          },
          "execution_count": 141
        }
      ]
    },
    {
      "cell_type": "code",
      "metadata": {
        "colab": {
          "base_uri": "https://localhost:8080/",
          "height": 282
        },
        "id": "TxT9O02og521",
        "outputId": "284ad1a4-df6c-41c4-f537-bbc784e2af87"
      },
      "source": [
        "graf1['Happiness Score'].value_counts().sort_index().plot.line()"
      ],
      "execution_count": 170,
      "outputs": [
        {
          "output_type": "execute_result",
          "data": {
            "text/plain": [
              "<matplotlib.axes._subplots.AxesSubplot at 0x7f7cb62f9810>"
            ]
          },
          "metadata": {
            "tags": []
          },
          "execution_count": 170
        },
        {
          "output_type": "display_data",
          "data": {
            "image/png": "[encoded data removed]",
            "text/plain": [
              "<Figure size 432x288 with 1 Axes>"
            ]
          },
          "metadata": {
            "tags": [],
            "needs_background": "light"
          }
        }
      ]
    },
    {
      "cell_type": "code",
      "metadata": {
        "colab": {
          "base_uri": "https://localhost:8080/",
          "height": 282
        },
        "id": "D_IF6VLdheBw",
        "outputId": "eb5341c1-4354-4872-95fd-7d0c85f1e07f"
      },
      "source": [
        "graf1['Happiness Score'].plot.hist()"
      ],
      "execution_count": 174,
      "outputs": [
        {
          "output_type": "execute_result",
          "data": {
            "text/plain": [
              "<matplotlib.axes._subplots.AxesSubplot at 0x7f7cb60cca50>"
            ]
          },
          "metadata": {
            "tags": []
          },
          "execution_count": 174
        },
        {
          "output_type": "display_data",
          "data": {
            "image/png": "[encoded data removed]",
            "text/plain": [
              "<Figure size 432x288 with 1 Axes>"
            ]
          },
          "metadata": {
            "tags": [],
            "needs_background": "light"
          }
        }
      ]
    },
    {
      "cell_type": "code",
      "metadata": {
        "id": "zFTIKKrruSDL"
      },
      "source": [
        "import seaborn as sns"
      ],
      "execution_count": 193,
      "outputs": []
    },
    {
      "cell_type": "code",
      "metadata": {
        "id": "jRB0yNy4kjZe"
      },
      "source": [
        "Happines_Score = pd.read_csv(\"/content/2015_2019_2020_limpia.csv\",index_col=0)"
      ],
      "execution_count": 190,
      "outputs": []
    },
    {
      "cell_type": "code",
      "metadata": {
        "colab": {
          "base_uri": "https://localhost:8080/",
          "height": 163
        },
        "id": "rR6rVunLk-LH",
        "outputId": "2d23f3f2-61da-45c6-d008-655389dd145b"
      },
      "source": [
        "Happiness_score.head()"
      ],
      "execution_count": 192,
      "outputs": [
        {
          "output_type": "error",
          "ename": "NameError",
          "evalue": "ignored",
          "traceback": [
            "\u001b[0;31m---------------------------------------------------------------------------\u001b[0m",
            "\u001b[0;31mNameError\u001b[0m                                 Traceback (most recent call last)",
            "\u001b[0;32m<ipython-input-192-6e1ca8e6bd6d>\u001b[0m in \u001b[0;36m<module>\u001b[0;34m()\u001b[0m\n\u001b[0;32m----> 1\u001b[0;31m \u001b[0mHappiness_score\u001b[0m\u001b[0;34m.\u001b[0m\u001b[0mhead\u001b[0m\u001b[0;34m(\u001b[0m\u001b[0;34m)\u001b[0m\u001b[0;34m\u001b[0m\u001b[0;34m\u001b[0m\u001b[0m\n\u001b[0m",
            "\u001b[0;31mNameError\u001b[0m: name 'Happiness_score' is not defined"
          ]
        }
      ]
    },
    {
      "cell_type": "markdown",
      "metadata": {
        "id": "Jiq35es55orS"
      },
      "source": [
        "Estadística  de la economía "
      ]
    },
    {
      "cell_type": "code",
      "metadata": {
        "colab": {
          "base_uri": "https://localhost:8080/"
        },
        "id": "brRA4OvXbAGG",
        "outputId": "6df129cc-25fe-4cdc-a244-7bae97915878"
      },
      "source": [
        "df['Economy (GDP per Capita)'].describe()"
      ],
      "execution_count": 90,
      "outputs": [
        {
          "output_type": "execute_result",
          "data": {
            "text/plain": [
              "count    4.000000\n",
              "mean     1.139272\n",
              "std      0.316464\n",
              "min      0.745530\n",
              "25%      0.951788\n",
              "50%      1.207525\n",
              "75%      1.395010\n",
              "max      1.396510\n",
              "Name: Economy (GDP per Capita), dtype: float64"
            ]
          },
          "metadata": {
            "tags": []
          },
          "execution_count": 90
        }
      ]
    },
    {
      "cell_type": "code",
      "metadata": {
        "colab": {
          "base_uri": "https://localhost:8080/"
        },
        "id": "zVW-Y89o2mwn",
        "outputId": "86ac8eba-b66e-478f-feb0-734982230345"
      },
      "source": [
        "df['Economy (GDP per Capita)'].median()"
      ],
      "execution_count": 91,
      "outputs": [
        {
          "output_type": "execute_result",
          "data": {
            "text/plain": [
              "1.207525"
            ]
          },
          "metadata": {
            "tags": []
          },
          "execution_count": 91
        }
      ]
    },
    {
      "cell_type": "code",
      "metadata": {
        "colab": {
          "base_uri": "https://localhost:8080/"
        },
        "id": "Xqhyz_s52sjj",
        "outputId": "667f8df7-7408-4ba1-c5a1-babb07c8bac9"
      },
      "source": [
        "df['Economy (GDP per Capita)'].var()"
      ],
      "execution_count": 92,
      "outputs": [
        {
          "output_type": "execute_result",
          "data": {
            "text/plain": [
              "0.10014929189166664"
            ]
          },
          "metadata": {
            "tags": []
          },
          "execution_count": 92
        }
      ]
    },
    {
      "cell_type": "code",
      "metadata": {
        "colab": {
          "base_uri": "https://localhost:8080/"
        },
        "id": "v5xwFFt52156",
        "outputId": "0c5e2b19-fb20-49d5-b29a-6357e8874b7f"
      },
      "source": [
        "df['Economy (GDP per Capita)'].skew()"
      ],
      "execution_count": 93,
      "outputs": [
        {
          "output_type": "execute_result",
          "data": {
            "text/plain": [
              "-0.6114273568385711"
            ]
          },
          "metadata": {
            "tags": []
          },
          "execution_count": 93
        }
      ]
    },
    {
      "cell_type": "code",
      "metadata": {
        "colab": {
          "base_uri": "https://localhost:8080/"
        },
        "id": "zYZwJMhY3Ddu",
        "outputId": "d0b7acf4-e59d-46a2-bf04-cb845d7428d5"
      },
      "source": [
        "df['Economy (GDP per Capita)'].kurt()"
      ],
      "execution_count": 94,
      "outputs": [
        {
          "output_type": "execute_result",
          "data": {
            "text/plain": [
              "-2.5804084640967915"
            ]
          },
          "metadata": {
            "tags": []
          },
          "execution_count": 94
        }
      ]
    },
    {
      "cell_type": "code",
      "metadata": {
        "colab": {
          "base_uri": "https://localhost:8080/",
          "height": 142
        },
        "id": "Y6_1abze3GIn",
        "outputId": "a0281a5d-b8d1-47a0-d223-dbfa76ca2003"
      },
      "source": [
        "df.cov()"
      ],
      "execution_count": 142,
      "outputs": [
        {
          "output_type": "execute_result",
          "data": {
            "text/html": [
              "<div>\n",
              "<style scoped>\n",
              "    .dataframe tbody tr th:only-of-type {\n",
              "        vertical-align: middle;\n",
              "    }\n",
              "\n",
              "    .dataframe tbody tr th {\n",
              "        vertical-align: top;\n",
              "    }\n",
              "\n",
              "    .dataframe thead th {\n",
              "        text-align: right;\n",
              "    }\n",
              "</style>\n",
              "<table border=\"1\" class=\"dataframe\">\n",
              "  <thead>\n",
              "    <tr style=\"text-align: right;\">\n",
              "      <th></th>\n",
              "      <th>Happiness Score</th>\n",
              "      <th>Logged GDP per capita</th>\n",
              "      <th>Perceptions of corruption.1</th>\n",
              "    </tr>\n",
              "  </thead>\n",
              "  <tbody>\n",
              "    <tr>\n",
              "      <th>Happiness Score</th>\n",
              "      <td>0.389230</td>\n",
              "      <td>0.389048</td>\n",
              "      <td>-0.175111</td>\n",
              "    </tr>\n",
              "    <tr>\n",
              "      <th>Logged GDP per capita</th>\n",
              "      <td>0.389048</td>\n",
              "      <td>0.813985</td>\n",
              "      <td>-0.137090</td>\n",
              "    </tr>\n",
              "    <tr>\n",
              "      <th>Perceptions of corruption.1</th>\n",
              "      <td>-0.175111</td>\n",
              "      <td>-0.137090</td>\n",
              "      <td>0.082714</td>\n",
              "    </tr>\n",
              "  </tbody>\n",
              "</table>\n",
              "</div>"
            ],
            "text/plain": [
              "                             Happiness Score  ...  Perceptions of corruption.1\n",
              "Happiness Score                     0.389230  ...                    -0.175111\n",
              "Logged GDP per capita               0.389048  ...                    -0.137090\n",
              "Perceptions of corruption.1        -0.175111  ...                     0.082714\n",
              "\n",
              "[3 rows x 3 columns]"
            ]
          },
          "metadata": {
            "tags": []
          },
          "execution_count": 142
        }
      ]
    },
    {
      "cell_type": "code",
      "metadata": {
        "colab": {
          "base_uri": "https://localhost:8080/",
          "height": 142
        },
        "id": "8IyMNakpb8hP",
        "outputId": "8ffb9efa-a10d-4360-cb93-15ee27d89195"
      },
      "source": [
        "df.corr()"
      ],
      "execution_count": 144,
      "outputs": [
        {
          "output_type": "execute_result",
          "data": {
            "text/html": [
              "<div>\n",
              "<style scoped>\n",
              "    .dataframe tbody tr th:only-of-type {\n",
              "        vertical-align: middle;\n",
              "    }\n",
              "\n",
              "    .dataframe tbody tr th {\n",
              "        vertical-align: top;\n",
              "    }\n",
              "\n",
              "    .dataframe thead th {\n",
              "        text-align: right;\n",
              "    }\n",
              "</style>\n",
              "<table border=\"1\" class=\"dataframe\">\n",
              "  <thead>\n",
              "    <tr style=\"text-align: right;\">\n",
              "      <th></th>\n",
              "      <th>Happiness Score</th>\n",
              "      <th>Logged GDP per capita</th>\n",
              "      <th>Perceptions of corruption.1</th>\n",
              "    </tr>\n",
              "  </thead>\n",
              "  <tbody>\n",
              "    <tr>\n",
              "      <th>Happiness Score</th>\n",
              "      <td>1.000000</td>\n",
              "      <td>0.691182</td>\n",
              "      <td>-0.975933</td>\n",
              "    </tr>\n",
              "    <tr>\n",
              "      <th>Logged GDP per capita</th>\n",
              "      <td>0.691182</td>\n",
              "      <td>1.000000</td>\n",
              "      <td>-0.528331</td>\n",
              "    </tr>\n",
              "    <tr>\n",
              "      <th>Perceptions of corruption.1</th>\n",
              "      <td>-0.975933</td>\n",
              "      <td>-0.528331</td>\n",
              "      <td>1.000000</td>\n",
              "    </tr>\n",
              "  </tbody>\n",
              "</table>\n",
              "</div>"
            ],
            "text/plain": [
              "                             Happiness Score  ...  Perceptions of corruption.1\n",
              "Happiness Score                     1.000000  ...                    -0.975933\n",
              "Logged GDP per capita               0.691182  ...                    -0.528331\n",
              "Perceptions of corruption.1        -0.975933  ...                     1.000000\n",
              "\n",
              "[3 rows x 3 columns]"
            ]
          },
          "metadata": {
            "tags": []
          },
          "execution_count": 144
        }
      ]
    },
    {
      "cell_type": "code",
      "metadata": {
        "colab": {
          "base_uri": "https://localhost:8080/",
          "height": 282
        },
        "id": "EsbNLM_Pg8_u",
        "outputId": "d0fde4d3-279d-4df6-cc2f-dfbd8579b858"
      },
      "source": [
        "graf1['Economy (GDP per Capita)'].value_counts().plot.line()"
      ],
      "execution_count": 194,
      "outputs": [
        {
          "output_type": "execute_result",
          "data": {
            "text/plain": [
              "<matplotlib.axes._subplots.AxesSubplot at 0x7f7ca85a3050>"
            ]
          },
          "metadata": {
            "tags": []
          },
          "execution_count": 194
        },
        {
          "output_type": "display_data",
          "data": {
            "image/png": "[encoded data removed]",
            "text/plain": [
              "<Figure size 432x288 with 1 Axes>"
            ]
          },
          "metadata": {
            "tags": [],
            "needs_background": "light"
          }
        }
      ]
    },
    {
      "cell_type": "code",
      "metadata": {
        "colab": {
          "base_uri": "https://localhost:8080/",
          "height": 282
        },
        "id": "f80jKJXxhsJe",
        "outputId": "f3df673f-802b-450b-ee75-c24201246d62"
      },
      "source": [
        "graf1['Economy (GDP per Capita)'].plot.hist()"
      ],
      "execution_count": 175,
      "outputs": [
        {
          "output_type": "execute_result",
          "data": {
            "text/plain": [
              "<matplotlib.axes._subplots.AxesSubplot at 0x7f7cb6044610>"
            ]
          },
          "metadata": {
            "tags": []
          },
          "execution_count": 175
        },
        {
          "output_type": "display_data",
          "data": {
            "image/png": "[encoded data removed]",
            "text/plain": [
              "<Figure size 432x288 with 1 Axes>"
            ]
          },
          "metadata": {
            "tags": [],
            "needs_background": "light"
          }
        }
      ]
    },
    {
      "cell_type": "markdown",
      "metadata": {
        "id": "X8fw4bkA6ASc"
      },
      "source": [
        "Estadística de corrupción"
      ]
    },
    {
      "cell_type": "code",
      "metadata": {
        "colab": {
          "base_uri": "https://localhost:8080/"
        },
        "id": "6jLL6RxE4BOp",
        "outputId": "2cbbb869-4cb5-46e7-d2e3-be332aeffab6"
      },
      "source": [
        "df['Trust (Government Corruption)'].describe()"
      ],
      "execution_count": 96,
      "outputs": [
        {
          "output_type": "execute_result",
          "data": {
            "text/plain": [
              "count    4.000000\n",
              "mean     0.221630\n",
              "std      0.140685\n",
              "min      0.094720\n",
              "25%      0.142855\n",
              "50%      0.186010\n",
              "75%      0.264785\n",
              "max      0.419780\n",
              "Name: Trust (Government Corruption), dtype: float64"
            ]
          },
          "metadata": {
            "tags": []
          },
          "execution_count": 96
        }
      ]
    },
    {
      "cell_type": "code",
      "metadata": {
        "colab": {
          "base_uri": "https://localhost:8080/"
        },
        "id": "fvTpAsDL4F1t",
        "outputId": "7593a84d-69dd-4e1b-efa5-88c610e1b645"
      },
      "source": [
        "df['Trust (Government Corruption)'].median()"
      ],
      "execution_count": 97,
      "outputs": [
        {
          "output_type": "execute_result",
          "data": {
            "text/plain": [
              "0.18601"
            ]
          },
          "metadata": {
            "tags": []
          },
          "execution_count": 97
        }
      ]
    },
    {
      "cell_type": "code",
      "metadata": {
        "colab": {
          "base_uri": "https://localhost:8080/"
        },
        "id": "pIyLQqhW6MJq",
        "outputId": "9be07561-8b03-4e69-977c-6af2c1e056cc"
      },
      "source": [
        "df['Trust (Government Corruption)'].var()"
      ],
      "execution_count": 98,
      "outputs": [
        {
          "output_type": "execute_result",
          "data": {
            "text/plain": [
              "0.01979234786666666"
            ]
          },
          "metadata": {
            "tags": []
          },
          "execution_count": 98
        }
      ]
    },
    {
      "cell_type": "code",
      "metadata": {
        "colab": {
          "base_uri": "https://localhost:8080/"
        },
        "id": "b9Ve4D8b6Pc8",
        "outputId": "6b611231-9d09-4a5b-a941-dbe9c8199ccd"
      },
      "source": [
        "df['Trust (Government Corruption)'].skew()"
      ],
      "execution_count": 99,
      "outputs": [
        {
          "output_type": "execute_result",
          "data": {
            "text/plain": [
              "1.3140766230274288"
            ]
          },
          "metadata": {
            "tags": []
          },
          "execution_count": 99
        }
      ]
    },
    {
      "cell_type": "code",
      "metadata": {
        "colab": {
          "base_uri": "https://localhost:8080/"
        },
        "id": "kEkGHWSY6lFn",
        "outputId": "eeaa0189-dd4d-4e63-b4ba-2ab27e553aa4"
      },
      "source": [
        "df['Trust (Government Corruption)'].kurt()"
      ],
      "execution_count": 100,
      "outputs": [
        {
          "output_type": "execute_result",
          "data": {
            "text/plain": [
              "1.9569186386129882"
            ]
          },
          "metadata": {
            "tags": []
          },
          "execution_count": 100
        }
      ]
    },
    {
      "cell_type": "code",
      "metadata": {
        "colab": {
          "base_uri": "https://localhost:8080/",
          "height": 142
        },
        "id": "I17blfVC6pJg",
        "outputId": "695f9350-5eb1-437e-c2a2-913a1b5f5964"
      },
      "source": [
        "df.corr()"
      ],
      "execution_count": 145,
      "outputs": [
        {
          "output_type": "execute_result",
          "data": {
            "text/html": [
              "<div>\n",
              "<style scoped>\n",
              "    .dataframe tbody tr th:only-of-type {\n",
              "        vertical-align: middle;\n",
              "    }\n",
              "\n",
              "    .dataframe tbody tr th {\n",
              "        vertical-align: top;\n",
              "    }\n",
              "\n",
              "    .dataframe thead th {\n",
              "        text-align: right;\n",
              "    }\n",
              "</style>\n",
              "<table border=\"1\" class=\"dataframe\">\n",
              "  <thead>\n",
              "    <tr style=\"text-align: right;\">\n",
              "      <th></th>\n",
              "      <th>Happiness Score</th>\n",
              "      <th>Logged GDP per capita</th>\n",
              "      <th>Perceptions of corruption.1</th>\n",
              "    </tr>\n",
              "  </thead>\n",
              "  <tbody>\n",
              "    <tr>\n",
              "      <th>Happiness Score</th>\n",
              "      <td>1.000000</td>\n",
              "      <td>0.691182</td>\n",
              "      <td>-0.975933</td>\n",
              "    </tr>\n",
              "    <tr>\n",
              "      <th>Logged GDP per capita</th>\n",
              "      <td>0.691182</td>\n",
              "      <td>1.000000</td>\n",
              "      <td>-0.528331</td>\n",
              "    </tr>\n",
              "    <tr>\n",
              "      <th>Perceptions of corruption.1</th>\n",
              "      <td>-0.975933</td>\n",
              "      <td>-0.528331</td>\n",
              "      <td>1.000000</td>\n",
              "    </tr>\n",
              "  </tbody>\n",
              "</table>\n",
              "</div>"
            ],
            "text/plain": [
              "                             Happiness Score  ...  Perceptions of corruption.1\n",
              "Happiness Score                     1.000000  ...                    -0.975933\n",
              "Logged GDP per capita               0.691182  ...                    -0.528331\n",
              "Perceptions of corruption.1        -0.975933  ...                     1.000000\n",
              "\n",
              "[3 rows x 3 columns]"
            ]
          },
          "metadata": {
            "tags": []
          },
          "execution_count": 145
        }
      ]
    },
    {
      "cell_type": "code",
      "metadata": {
        "colab": {
          "base_uri": "https://localhost:8080/",
          "height": 142
        },
        "id": "F76QeNUs6xud",
        "outputId": "56f5a999-9627-441b-ac78-80e4190721e0"
      },
      "source": [
        "df.cov()"
      ],
      "execution_count": 146,
      "outputs": [
        {
          "output_type": "execute_result",
          "data": {
            "text/html": [
              "<div>\n",
              "<style scoped>\n",
              "    .dataframe tbody tr th:only-of-type {\n",
              "        vertical-align: middle;\n",
              "    }\n",
              "\n",
              "    .dataframe tbody tr th {\n",
              "        vertical-align: top;\n",
              "    }\n",
              "\n",
              "    .dataframe thead th {\n",
              "        text-align: right;\n",
              "    }\n",
              "</style>\n",
              "<table border=\"1\" class=\"dataframe\">\n",
              "  <thead>\n",
              "    <tr style=\"text-align: right;\">\n",
              "      <th></th>\n",
              "      <th>Happiness Score</th>\n",
              "      <th>Logged GDP per capita</th>\n",
              "      <th>Perceptions of corruption.1</th>\n",
              "    </tr>\n",
              "  </thead>\n",
              "  <tbody>\n",
              "    <tr>\n",
              "      <th>Happiness Score</th>\n",
              "      <td>0.389230</td>\n",
              "      <td>0.389048</td>\n",
              "      <td>-0.175111</td>\n",
              "    </tr>\n",
              "    <tr>\n",
              "      <th>Logged GDP per capita</th>\n",
              "      <td>0.389048</td>\n",
              "      <td>0.813985</td>\n",
              "      <td>-0.137090</td>\n",
              "    </tr>\n",
              "    <tr>\n",
              "      <th>Perceptions of corruption.1</th>\n",
              "      <td>-0.175111</td>\n",
              "      <td>-0.137090</td>\n",
              "      <td>0.082714</td>\n",
              "    </tr>\n",
              "  </tbody>\n",
              "</table>\n",
              "</div>"
            ],
            "text/plain": [
              "                             Happiness Score  ...  Perceptions of corruption.1\n",
              "Happiness Score                     0.389230  ...                    -0.175111\n",
              "Logged GDP per capita               0.389048  ...                    -0.137090\n",
              "Perceptions of corruption.1        -0.175111  ...                     0.082714\n",
              "\n",
              "[3 rows x 3 columns]"
            ]
          },
          "metadata": {
            "tags": []
          },
          "execution_count": 146
        }
      ]
    },
    {
      "cell_type": "code",
      "metadata": {
        "colab": {
          "base_uri": "https://localhost:8080/",
          "height": 282
        },
        "id": "MxenX4p1hRjs",
        "outputId": "cbfee093-a495-406c-865b-b0cf11bf957b"
      },
      "source": [
        "graf1['Trust (Government Corruption)'].value_counts().sort_index().plot.line()"
      ],
      "execution_count": 172,
      "outputs": [
        {
          "output_type": "execute_result",
          "data": {
            "text/plain": [
              "<matplotlib.axes._subplots.AxesSubplot at 0x7f7cb61be7d0>"
            ]
          },
          "metadata": {
            "tags": []
          },
          "execution_count": 172
        },
        {
          "output_type": "display_data",
          "data": {
            "image/png": "[encoded data removed]",
            "text/plain": [
              "<Figure size 432x288 with 1 Axes>"
            ]
          },
          "metadata": {
            "tags": [],
            "needs_background": "light"
          }
        }
      ]
    },
    {
      "cell_type": "markdown",
      "metadata": {
        "id": "Xx_X3iFs8PPp"
      },
      "source": [
        "**BASE DE DATOS 2019**"
      ]
    },
    {
      "cell_type": "code",
      "metadata": {
        "colab": {
          "base_uri": "https://localhost:8080/",
          "height": 173
        },
        "id": "2g95tp-A3st9",
        "outputId": "da636da7-5f47-4585-d41e-8355b06fc39d"
      },
      "source": [
        "data = {'Country': ['Finland', 'United States', 'Mexico', 'guatemala'], \n",
        "        'Happiness Rank': [1, 18, 24, 27], \n",
        "        'Happiness Score': [7.769, 6.9396, 6.4650, 6.436],\n",
        "        'GDP per capita': [1.340, 1.433, 1.070, .800],\n",
        "        'Trust (Government Corruption)': [0.393, 0.128, 0.073, 0.078]}\n",
        "df = pd.DataFrame(data, columns = ['Country', 'Happiness Score', 'GDP per capita', 'Trust (Government Corruption)'])\n",
        "df"
      ],
      "execution_count": 110,
      "outputs": [
        {
          "output_type": "execute_result",
          "data": {
            "text/html": [
              "<div>\n",
              "<style scoped>\n",
              "    .dataframe tbody tr th:only-of-type {\n",
              "        vertical-align: middle;\n",
              "    }\n",
              "\n",
              "    .dataframe tbody tr th {\n",
              "        vertical-align: top;\n",
              "    }\n",
              "\n",
              "    .dataframe thead th {\n",
              "        text-align: right;\n",
              "    }\n",
              "</style>\n",
              "<table border=\"1\" class=\"dataframe\">\n",
              "  <thead>\n",
              "    <tr style=\"text-align: right;\">\n",
              "      <th></th>\n",
              "      <th>Country</th>\n",
              "      <th>Happiness Score</th>\n",
              "      <th>GDP per capita</th>\n",
              "      <th>Trust (Government Corruption)</th>\n",
              "    </tr>\n",
              "  </thead>\n",
              "  <tbody>\n",
              "    <tr>\n",
              "      <th>0</th>\n",
              "      <td>Finland</td>\n",
              "      <td>7.7690</td>\n",
              "      <td>1.340</td>\n",
              "      <td>0.393</td>\n",
              "    </tr>\n",
              "    <tr>\n",
              "      <th>1</th>\n",
              "      <td>United States</td>\n",
              "      <td>6.9396</td>\n",
              "      <td>1.433</td>\n",
              "      <td>0.128</td>\n",
              "    </tr>\n",
              "    <tr>\n",
              "      <th>2</th>\n",
              "      <td>Mexico</td>\n",
              "      <td>6.4650</td>\n",
              "      <td>1.070</td>\n",
              "      <td>0.073</td>\n",
              "    </tr>\n",
              "    <tr>\n",
              "      <th>3</th>\n",
              "      <td>guatemala</td>\n",
              "      <td>6.4360</td>\n",
              "      <td>0.800</td>\n",
              "      <td>0.078</td>\n",
              "    </tr>\n",
              "  </tbody>\n",
              "</table>\n",
              "</div>"
            ],
            "text/plain": [
              "         Country  ...  Trust (Government Corruption)\n",
              "0        Finland  ...                          0.393\n",
              "1  United States  ...                          0.128\n",
              "2         Mexico  ...                          0.073\n",
              "3      guatemala  ...                          0.078\n",
              "\n",
              "[4 rows x 4 columns]"
            ]
          },
          "metadata": {
            "tags": []
          },
          "execution_count": 110
        }
      ]
    },
    {
      "cell_type": "markdown",
      "metadata": {
        "id": "lT6Fe85_Bb4s"
      },
      "source": [
        "Estadística de la puntuación"
      ]
    },
    {
      "cell_type": "code",
      "metadata": {
        "colab": {
          "base_uri": "https://localhost:8080/"
        },
        "id": "PXRYFNcEBbbC",
        "outputId": "71341ad3-7076-4cf4-b6d5-d8026278ceed"
      },
      "source": [
        "df['Happiness Score'].describe()"
      ],
      "execution_count": 111,
      "outputs": [
        {
          "output_type": "execute_result",
          "data": {
            "text/plain": [
              "count    4.000000\n",
              "mean     6.902400\n",
              "std      0.622154\n",
              "min      6.436000\n",
              "25%      6.457750\n",
              "50%      6.702300\n",
              "75%      7.146950\n",
              "max      7.769000\n",
              "Name: Happiness Score, dtype: float64"
            ]
          },
          "metadata": {
            "tags": []
          },
          "execution_count": 111
        }
      ]
    },
    {
      "cell_type": "code",
      "metadata": {
        "colab": {
          "base_uri": "https://localhost:8080/"
        },
        "id": "8vAKVa_ODXBl",
        "outputId": "1c888a36-311d-4a86-d727-bd3485ad96f4"
      },
      "source": [
        "df['Happiness Score'].median()"
      ],
      "execution_count": 112,
      "outputs": [
        {
          "output_type": "execute_result",
          "data": {
            "text/plain": [
              "6.7023"
            ]
          },
          "metadata": {
            "tags": []
          },
          "execution_count": 112
        }
      ]
    },
    {
      "cell_type": "code",
      "metadata": {
        "colab": {
          "base_uri": "https://localhost:8080/"
        },
        "id": "n8Uq4oynGjlc",
        "outputId": "53781aea-7a65-45c3-84b8-23349ee8ac0c"
      },
      "source": [
        "df['Happiness Score'].median()"
      ],
      "execution_count": 114,
      "outputs": [
        {
          "output_type": "execute_result",
          "data": {
            "text/plain": [
              "6.7435"
            ]
          },
          "metadata": {
            "tags": []
          },
          "execution_count": 114
        }
      ]
    },
    {
      "cell_type": "code",
      "metadata": {
        "colab": {
          "base_uri": "https://localhost:8080/"
        },
        "id": "Dro_ySfzXXk0",
        "outputId": "d49a2e99-7a5e-4641-fbfb-542fefa5f6b5"
      },
      "source": [
        "df['Happiness Score'].var()"
      ],
      "execution_count": 115,
      "outputs": [
        {
          "output_type": "execute_result",
          "data": {
            "text/plain": [
              "0.38922953666666665"
            ]
          },
          "metadata": {
            "tags": []
          },
          "execution_count": 115
        }
      ]
    },
    {
      "cell_type": "code",
      "metadata": {
        "colab": {
          "base_uri": "https://localhost:8080/"
        },
        "id": "SaOtt5XAXbnj",
        "outputId": "fbe61cb5-d956-4912-b536-68748d459b75"
      },
      "source": [
        "df['Happiness Score'].skew()"
      ],
      "execution_count": 116,
      "outputs": [
        {
          "output_type": "execute_result",
          "data": {
            "text/plain": [
              "1.409046526659692"
            ]
          },
          "metadata": {
            "tags": []
          },
          "execution_count": 116
        }
      ]
    },
    {
      "cell_type": "code",
      "metadata": {
        "colab": {
          "base_uri": "https://localhost:8080/"
        },
        "id": "s0ZstAE8Xf4Q",
        "outputId": "2cd818a3-3cd0-4bcb-d363-aa63dcb3f27f"
      },
      "source": [
        "df['Happiness Score'].kurt()"
      ],
      "execution_count": 117,
      "outputs": [
        {
          "output_type": "execute_result",
          "data": {
            "text/plain": [
              "1.925162314615335"
            ]
          },
          "metadata": {
            "tags": []
          },
          "execution_count": 117
        }
      ]
    },
    {
      "cell_type": "code",
      "metadata": {
        "colab": {
          "base_uri": "https://localhost:8080/",
          "height": 142
        },
        "id": "j3PPi1xIXwHn",
        "outputId": "578f6ab2-f85e-43d7-820d-54e3ccc5dcfc"
      },
      "source": [
        "df.corr()"
      ],
      "execution_count": 138,
      "outputs": [
        {
          "output_type": "execute_result",
          "data": {
            "text/html": [
              "<div>\n",
              "<style scoped>\n",
              "    .dataframe tbody tr th:only-of-type {\n",
              "        vertical-align: middle;\n",
              "    }\n",
              "\n",
              "    .dataframe tbody tr th {\n",
              "        vertical-align: top;\n",
              "    }\n",
              "\n",
              "    .dataframe thead th {\n",
              "        text-align: right;\n",
              "    }\n",
              "</style>\n",
              "<table border=\"1\" class=\"dataframe\">\n",
              "  <thead>\n",
              "    <tr style=\"text-align: right;\">\n",
              "      <th></th>\n",
              "      <th>Happiness Score</th>\n",
              "      <th>Logged GDP per capita</th>\n",
              "      <th>Perceptions of corruption.1</th>\n",
              "    </tr>\n",
              "  </thead>\n",
              "  <tbody>\n",
              "    <tr>\n",
              "      <th>Happiness Score</th>\n",
              "      <td>1.000000</td>\n",
              "      <td>0.691182</td>\n",
              "      <td>-0.975933</td>\n",
              "    </tr>\n",
              "    <tr>\n",
              "      <th>Logged GDP per capita</th>\n",
              "      <td>0.691182</td>\n",
              "      <td>1.000000</td>\n",
              "      <td>-0.528331</td>\n",
              "    </tr>\n",
              "    <tr>\n",
              "      <th>Perceptions of corruption.1</th>\n",
              "      <td>-0.975933</td>\n",
              "      <td>-0.528331</td>\n",
              "      <td>1.000000</td>\n",
              "    </tr>\n",
              "  </tbody>\n",
              "</table>\n",
              "</div>"
            ],
            "text/plain": [
              "                             Happiness Score  ...  Perceptions of corruption.1\n",
              "Happiness Score                     1.000000  ...                    -0.975933\n",
              "Logged GDP per capita               0.691182  ...                    -0.528331\n",
              "Perceptions of corruption.1        -0.975933  ...                     1.000000\n",
              "\n",
              "[3 rows x 3 columns]"
            ]
          },
          "metadata": {
            "tags": []
          },
          "execution_count": 138
        }
      ]
    },
    {
      "cell_type": "code",
      "metadata": {
        "colab": {
          "base_uri": "https://localhost:8080/",
          "height": 142
        },
        "id": "rQoCx6miXzvh",
        "outputId": "30f306ed-48be-4b36-e0f3-d8238400d989"
      },
      "source": [
        "df.cov()"
      ],
      "execution_count": 139,
      "outputs": [
        {
          "output_type": "execute_result",
          "data": {
            "text/html": [
              "<div>\n",
              "<style scoped>\n",
              "    .dataframe tbody tr th:only-of-type {\n",
              "        vertical-align: middle;\n",
              "    }\n",
              "\n",
              "    .dataframe tbody tr th {\n",
              "        vertical-align: top;\n",
              "    }\n",
              "\n",
              "    .dataframe thead th {\n",
              "        text-align: right;\n",
              "    }\n",
              "</style>\n",
              "<table border=\"1\" class=\"dataframe\">\n",
              "  <thead>\n",
              "    <tr style=\"text-align: right;\">\n",
              "      <th></th>\n",
              "      <th>Happiness Score</th>\n",
              "      <th>Logged GDP per capita</th>\n",
              "      <th>Perceptions of corruption.1</th>\n",
              "    </tr>\n",
              "  </thead>\n",
              "  <tbody>\n",
              "    <tr>\n",
              "      <th>Happiness Score</th>\n",
              "      <td>0.389230</td>\n",
              "      <td>0.389048</td>\n",
              "      <td>-0.175111</td>\n",
              "    </tr>\n",
              "    <tr>\n",
              "      <th>Logged GDP per capita</th>\n",
              "      <td>0.389048</td>\n",
              "      <td>0.813985</td>\n",
              "      <td>-0.137090</td>\n",
              "    </tr>\n",
              "    <tr>\n",
              "      <th>Perceptions of corruption.1</th>\n",
              "      <td>-0.175111</td>\n",
              "      <td>-0.137090</td>\n",
              "      <td>0.082714</td>\n",
              "    </tr>\n",
              "  </tbody>\n",
              "</table>\n",
              "</div>"
            ],
            "text/plain": [
              "                             Happiness Score  ...  Perceptions of corruption.1\n",
              "Happiness Score                     0.389230  ...                    -0.175111\n",
              "Logged GDP per capita               0.389048  ...                    -0.137090\n",
              "Perceptions of corruption.1        -0.175111  ...                     0.082714\n",
              "\n",
              "[3 rows x 3 columns]"
            ]
          },
          "metadata": {
            "tags": []
          },
          "execution_count": 139
        }
      ]
    },
    {
      "cell_type": "markdown",
      "metadata": {
        "id": "YZEtKMd2YQUI"
      },
      "source": [
        "estadística de la Economía"
      ]
    },
    {
      "cell_type": "markdown",
      "metadata": {
        "id": "rhlpjiunaAQ7"
      },
      "source": [
        "#**Error**"
      ]
    },
    {
      "cell_type": "code",
      "metadata": {
        "colab": {
          "base_uri": "https://localhost:8080/",
          "height": 561
        },
        "id": "0GvSINizYPnm",
        "outputId": "74d9ea38-e00c-444e-c95b-b5dacfc037c7"
      },
      "source": [
        "df['GDP per capita'].describe()"
      ],
      "execution_count": 195,
      "outputs": [
        {
          "output_type": "error",
          "ename": "KeyError",
          "evalue": "ignored",
          "traceback": [
            "\u001b[0;31m---------------------------------------------------------------------------\u001b[0m",
            "\u001b[0;31mKeyError\u001b[0m                                  Traceback (most recent call last)",
            "\u001b[0;32m/usr/local/lib/python3.7/dist-packages/pandas/core/indexes/base.py\u001b[0m in \u001b[0;36mget_loc\u001b[0;34m(self, key, method, tolerance)\u001b[0m\n\u001b[1;32m   2897\u001b[0m             \u001b[0;32mtry\u001b[0m\u001b[0;34m:\u001b[0m\u001b[0;34m\u001b[0m\u001b[0;34m\u001b[0m\u001b[0m\n\u001b[0;32m-> 2898\u001b[0;31m                 \u001b[0;32mreturn\u001b[0m \u001b[0mself\u001b[0m\u001b[0;34m.\u001b[0m\u001b[0m_engine\u001b[0m\u001b[0;34m.\u001b[0m\u001b[0mget_loc\u001b[0m\u001b[0;34m(\u001b[0m\u001b[0mcasted_key\u001b[0m\u001b[0;34m)\u001b[0m\u001b[0;34m\u001b[0m\u001b[0;34m\u001b[0m\u001b[0m\n\u001b[0m\u001b[1;32m   2899\u001b[0m             \u001b[0;32mexcept\u001b[0m \u001b[0mKeyError\u001b[0m \u001b[0;32mas\u001b[0m \u001b[0merr\u001b[0m\u001b[0;34m:\u001b[0m\u001b[0;34m\u001b[0m\u001b[0;34m\u001b[0m\u001b[0m\n",
            "\u001b[0;32mpandas/_libs/index.pyx\u001b[0m in \u001b[0;36mpandas._libs.index.IndexEngine.get_loc\u001b[0;34m()\u001b[0m\n",
            "\u001b[0;32mpandas/_libs/index.pyx\u001b[0m in \u001b[0;36mpandas._libs.index.IndexEngine.get_loc\u001b[0;34m()\u001b[0m\n",
            "\u001b[0;32mpandas/_libs/hashtable_class_helper.pxi\u001b[0m in \u001b[0;36mpandas._libs.hashtable.PyObjectHashTable.get_item\u001b[0;34m()\u001b[0m\n",
            "\u001b[0;32mpandas/_libs/hashtable_class_helper.pxi\u001b[0m in \u001b[0;36mpandas._libs.hashtable.PyObjectHashTable.get_item\u001b[0;34m()\u001b[0m\n",
            "\u001b[0;31mKeyError\u001b[0m: 'GDP per capita'",
            "\nThe above exception was the direct cause of the following exception:\n",
            "\u001b[0;31mKeyError\u001b[0m                                  Traceback (most recent call last)",
            "\u001b[0;32m<ipython-input-195-1ceac879bcfc>\u001b[0m in \u001b[0;36m<module>\u001b[0;34m()\u001b[0m\n\u001b[0;32m----> 1\u001b[0;31m \u001b[0mdf\u001b[0m\u001b[0;34m[\u001b[0m\u001b[0;34m'GDP per capita'\u001b[0m\u001b[0;34m]\u001b[0m\u001b[0;34m.\u001b[0m\u001b[0mdescribe\u001b[0m\u001b[0;34m(\u001b[0m\u001b[0;34m)\u001b[0m\u001b[0;34m\u001b[0m\u001b[0;34m\u001b[0m\u001b[0m\n\u001b[0m",
            "\u001b[0;32m/usr/local/lib/python3.7/dist-packages/pandas/core/frame.py\u001b[0m in \u001b[0;36m__getitem__\u001b[0;34m(self, key)\u001b[0m\n\u001b[1;32m   2904\u001b[0m             \u001b[0;32mif\u001b[0m \u001b[0mself\u001b[0m\u001b[0;34m.\u001b[0m\u001b[0mcolumns\u001b[0m\u001b[0;34m.\u001b[0m\u001b[0mnlevels\u001b[0m \u001b[0;34m>\u001b[0m \u001b[0;36m1\u001b[0m\u001b[0;34m:\u001b[0m\u001b[0;34m\u001b[0m\u001b[0;34m\u001b[0m\u001b[0m\n\u001b[1;32m   2905\u001b[0m                 \u001b[0;32mreturn\u001b[0m \u001b[0mself\u001b[0m\u001b[0;34m.\u001b[0m\u001b[0m_getitem_multilevel\u001b[0m\u001b[0;34m(\u001b[0m\u001b[0mkey\u001b[0m\u001b[0;34m)\u001b[0m\u001b[0;34m\u001b[0m\u001b[0;34m\u001b[0m\u001b[0m\n\u001b[0;32m-> 2906\u001b[0;31m             \u001b[0mindexer\u001b[0m \u001b[0;34m=\u001b[0m \u001b[0mself\u001b[0m\u001b[0;34m.\u001b[0m\u001b[0mcolumns\u001b[0m\u001b[0;34m.\u001b[0m\u001b[0mget_loc\u001b[0m\u001b[0;34m(\u001b[0m\u001b[0mkey\u001b[0m\u001b[0;34m)\u001b[0m\u001b[0;34m\u001b[0m\u001b[0;34m\u001b[0m\u001b[0m\n\u001b[0m\u001b[1;32m   2907\u001b[0m             \u001b[0;32mif\u001b[0m \u001b[0mis_integer\u001b[0m\u001b[0;34m(\u001b[0m\u001b[0mindexer\u001b[0m\u001b[0;34m)\u001b[0m\u001b[0;34m:\u001b[0m\u001b[0;34m\u001b[0m\u001b[0;34m\u001b[0m\u001b[0m\n\u001b[1;32m   2908\u001b[0m                 \u001b[0mindexer\u001b[0m \u001b[0;34m=\u001b[0m \u001b[0;34m[\u001b[0m\u001b[0mindexer\u001b[0m\u001b[0;34m]\u001b[0m\u001b[0;34m\u001b[0m\u001b[0;34m\u001b[0m\u001b[0m\n",
            "\u001b[0;32m/usr/local/lib/python3.7/dist-packages/pandas/core/indexes/base.py\u001b[0m in \u001b[0;36mget_loc\u001b[0;34m(self, key, method, tolerance)\u001b[0m\n\u001b[1;32m   2898\u001b[0m                 \u001b[0;32mreturn\u001b[0m \u001b[0mself\u001b[0m\u001b[0;34m.\u001b[0m\u001b[0m_engine\u001b[0m\u001b[0;34m.\u001b[0m\u001b[0mget_loc\u001b[0m\u001b[0;34m(\u001b[0m\u001b[0mcasted_key\u001b[0m\u001b[0;34m)\u001b[0m\u001b[0;34m\u001b[0m\u001b[0;34m\u001b[0m\u001b[0m\n\u001b[1;32m   2899\u001b[0m             \u001b[0;32mexcept\u001b[0m \u001b[0mKeyError\u001b[0m \u001b[0;32mas\u001b[0m \u001b[0merr\u001b[0m\u001b[0;34m:\u001b[0m\u001b[0;34m\u001b[0m\u001b[0;34m\u001b[0m\u001b[0m\n\u001b[0;32m-> 2900\u001b[0;31m                 \u001b[0;32mraise\u001b[0m \u001b[0mKeyError\u001b[0m\u001b[0;34m(\u001b[0m\u001b[0mkey\u001b[0m\u001b[0;34m)\u001b[0m \u001b[0;32mfrom\u001b[0m \u001b[0merr\u001b[0m\u001b[0;34m\u001b[0m\u001b[0;34m\u001b[0m\u001b[0m\n\u001b[0m\u001b[1;32m   2901\u001b[0m \u001b[0;34m\u001b[0m\u001b[0m\n\u001b[1;32m   2902\u001b[0m         \u001b[0;32mif\u001b[0m \u001b[0mtolerance\u001b[0m \u001b[0;32mis\u001b[0m \u001b[0;32mnot\u001b[0m \u001b[0;32mNone\u001b[0m\u001b[0;34m:\u001b[0m\u001b[0;34m\u001b[0m\u001b[0;34m\u001b[0m\u001b[0m\n",
            "\u001b[0;31mKeyError\u001b[0m: 'GDP per capita'"
          ]
        }
      ]
    },
    {
      "cell_type": "markdown",
      "metadata": {
        "id": "FgQFyUDeaHUX"
      },
      "source": [
        "Estadística de corrupción"
      ]
    },
    {
      "cell_type": "code",
      "metadata": {
        "id": "e06rJRe1aG8Y"
      },
      "source": [
        "#df['Trust (Government Corruption)'].describe()"
      ],
      "execution_count": 126,
      "outputs": []
    },
    {
      "cell_type": "markdown",
      "metadata": {
        "id": "vX9nSQNN9cEg"
      },
      "source": [
        "**BASE DE DATOS 2020**"
      ]
    },
    {
      "cell_type": "code",
      "metadata": {
        "colab": {
          "base_uri": "https://localhost:8080/",
          "height": 173
        },
        "id": "i05XDeMS8XqA",
        "outputId": "5c07ca30-01d1-4c86-8b6a-06201b8e7f18"
      },
      "source": [
        "data = {'Country': ['Finland', 'United States', 'Mexico', 'guatemala'], \n",
        "        'Happiness Rank': [1, 19, 23, 29],\n",
        "        'Happiness Score': [7.8087, 6.892, 6.595, 6.3989],\n",
        "        'Logged GDP per capita': [10.639267, 10.925769, 9.797797, 8.924806],\n",
        "        'Perceptions of corruption.1': [0.195445, 0.699715, 0.806822, 0.783237]}\n",
        "df = pd.DataFrame(data, columns = ['Country', 'Happiness Score', 'Logged GDP per capita', 'Perceptions of corruption.1'])\n",
        "df"
      ],
      "execution_count": 113,
      "outputs": [
        {
          "output_type": "execute_result",
          "data": {
            "text/html": [
              "<div>\n",
              "<style scoped>\n",
              "    .dataframe tbody tr th:only-of-type {\n",
              "        vertical-align: middle;\n",
              "    }\n",
              "\n",
              "    .dataframe tbody tr th {\n",
              "        vertical-align: top;\n",
              "    }\n",
              "\n",
              "    .dataframe thead th {\n",
              "        text-align: right;\n",
              "    }\n",
              "</style>\n",
              "<table border=\"1\" class=\"dataframe\">\n",
              "  <thead>\n",
              "    <tr style=\"text-align: right;\">\n",
              "      <th></th>\n",
              "      <th>Country</th>\n",
              "      <th>Happiness Score</th>\n",
              "      <th>Logged GDP per capita</th>\n",
              "      <th>Perceptions of corruption.1</th>\n",
              "    </tr>\n",
              "  </thead>\n",
              "  <tbody>\n",
              "    <tr>\n",
              "      <th>0</th>\n",
              "      <td>Finland</td>\n",
              "      <td>7.8087</td>\n",
              "      <td>10.639267</td>\n",
              "      <td>0.195445</td>\n",
              "    </tr>\n",
              "    <tr>\n",
              "      <th>1</th>\n",
              "      <td>United States</td>\n",
              "      <td>6.8920</td>\n",
              "      <td>10.925769</td>\n",
              "      <td>0.699715</td>\n",
              "    </tr>\n",
              "    <tr>\n",
              "      <th>2</th>\n",
              "      <td>Mexico</td>\n",
              "      <td>6.5950</td>\n",
              "      <td>9.797797</td>\n",
              "      <td>0.806822</td>\n",
              "    </tr>\n",
              "    <tr>\n",
              "      <th>3</th>\n",
              "      <td>guatemala</td>\n",
              "      <td>6.3989</td>\n",
              "      <td>8.924806</td>\n",
              "      <td>0.783237</td>\n",
              "    </tr>\n",
              "  </tbody>\n",
              "</table>\n",
              "</div>"
            ],
            "text/plain": [
              "         Country  ...  Perceptions of corruption.1\n",
              "0        Finland  ...                     0.195445\n",
              "1  United States  ...                     0.699715\n",
              "2         Mexico  ...                     0.806822\n",
              "3      guatemala  ...                     0.783237\n",
              "\n",
              "[4 rows x 4 columns]"
            ]
          },
          "metadata": {
            "tags": []
          },
          "execution_count": 113
        }
      ]
    },
    {
      "cell_type": "markdown",
      "metadata": {
        "id": "OAa8fHzpYF53"
      },
      "source": [
        "Estadística de puntuación"
      ]
    },
    {
      "cell_type": "code",
      "metadata": {
        "colab": {
          "base_uri": "https://localhost:8080/"
        },
        "id": "jKdG2yV3YFRB",
        "outputId": "44559495-b358-4d1f-9888-e0555f7e1cbb"
      },
      "source": [
        "df['Happiness Score'].describe()"
      ],
      "execution_count": 128,
      "outputs": [
        {
          "output_type": "execute_result",
          "data": {
            "text/plain": [
              "count    4.000000\n",
              "mean     6.923650\n",
              "std      0.623883\n",
              "min      6.398900\n",
              "25%      6.545975\n",
              "50%      6.743500\n",
              "75%      7.121175\n",
              "max      7.808700\n",
              "Name: Happiness Score, dtype: float64"
            ]
          },
          "metadata": {
            "tags": []
          },
          "execution_count": 128
        }
      ]
    },
    {
      "cell_type": "code",
      "metadata": {
        "colab": {
          "base_uri": "https://localhost:8080/"
        },
        "id": "oBvsfbSJalcV",
        "outputId": "3879716d-519d-4311-d6a0-d3ae09f8382c"
      },
      "source": [
        "df['Happiness Score'].median()"
      ],
      "execution_count": 129,
      "outputs": [
        {
          "output_type": "execute_result",
          "data": {
            "text/plain": [
              "6.7435"
            ]
          },
          "metadata": {
            "tags": []
          },
          "execution_count": 129
        }
      ]
    },
    {
      "cell_type": "code",
      "metadata": {
        "colab": {
          "base_uri": "https://localhost:8080/"
        },
        "id": "GBIVDvJMauES",
        "outputId": "d73fb606-0fc7-43e2-93de-49603f28ffa8"
      },
      "source": [
        "df['Happiness Score'].var()"
      ],
      "execution_count": 130,
      "outputs": [
        {
          "output_type": "execute_result",
          "data": {
            "text/plain": [
              "0.38922953666666665"
            ]
          },
          "metadata": {
            "tags": []
          },
          "execution_count": 130
        }
      ]
    },
    {
      "cell_type": "code",
      "metadata": {
        "colab": {
          "base_uri": "https://localhost:8080/"
        },
        "id": "MG60ub0Mawmr",
        "outputId": "0ba35f98-b4c4-4652-bb5a-d05ef7f8e675"
      },
      "source": [
        "df['Happiness Score'].skew()"
      ],
      "execution_count": 131,
      "outputs": [
        {
          "output_type": "execute_result",
          "data": {
            "text/plain": [
              "1.409046526659692"
            ]
          },
          "metadata": {
            "tags": []
          },
          "execution_count": 131
        }
      ]
    },
    {
      "cell_type": "code",
      "metadata": {
        "colab": {
          "base_uri": "https://localhost:8080/"
        },
        "id": "ynPjpw_Ha1SL",
        "outputId": "0b4e6ed3-17b5-4921-a255-0394c2b596f7"
      },
      "source": [
        "df['Happiness Score'].kurt()"
      ],
      "execution_count": 132,
      "outputs": [
        {
          "output_type": "execute_result",
          "data": {
            "text/plain": [
              "1.925162314615335"
            ]
          },
          "metadata": {
            "tags": []
          },
          "execution_count": 132
        }
      ]
    },
    {
      "cell_type": "code",
      "metadata": {
        "colab": {
          "base_uri": "https://localhost:8080/",
          "height": 142
        },
        "id": "3YhTJaMBa4C3",
        "outputId": "04e51d16-5f9d-4e50-da35-731d3eee0226"
      },
      "source": [
        "df.corr()"
      ],
      "execution_count": 147,
      "outputs": [
        {
          "output_type": "execute_result",
          "data": {
            "text/html": [
              "<div>\n",
              "<style scoped>\n",
              "    .dataframe tbody tr th:only-of-type {\n",
              "        vertical-align: middle;\n",
              "    }\n",
              "\n",
              "    .dataframe tbody tr th {\n",
              "        vertical-align: top;\n",
              "    }\n",
              "\n",
              "    .dataframe thead th {\n",
              "        text-align: right;\n",
              "    }\n",
              "</style>\n",
              "<table border=\"1\" class=\"dataframe\">\n",
              "  <thead>\n",
              "    <tr style=\"text-align: right;\">\n",
              "      <th></th>\n",
              "      <th>Happiness Score</th>\n",
              "      <th>Logged GDP per capita</th>\n",
              "      <th>Perceptions of corruption.1</th>\n",
              "    </tr>\n",
              "  </thead>\n",
              "  <tbody>\n",
              "    <tr>\n",
              "      <th>Happiness Score</th>\n",
              "      <td>1.000000</td>\n",
              "      <td>0.691182</td>\n",
              "      <td>-0.975933</td>\n",
              "    </tr>\n",
              "    <tr>\n",
              "      <th>Logged GDP per capita</th>\n",
              "      <td>0.691182</td>\n",
              "      <td>1.000000</td>\n",
              "      <td>-0.528331</td>\n",
              "    </tr>\n",
              "    <tr>\n",
              "      <th>Perceptions of corruption.1</th>\n",
              "      <td>-0.975933</td>\n",
              "      <td>-0.528331</td>\n",
              "      <td>1.000000</td>\n",
              "    </tr>\n",
              "  </tbody>\n",
              "</table>\n",
              "</div>"
            ],
            "text/plain": [
              "                             Happiness Score  ...  Perceptions of corruption.1\n",
              "Happiness Score                     1.000000  ...                    -0.975933\n",
              "Logged GDP per capita               0.691182  ...                    -0.528331\n",
              "Perceptions of corruption.1        -0.975933  ...                     1.000000\n",
              "\n",
              "[3 rows x 3 columns]"
            ]
          },
          "metadata": {
            "tags": []
          },
          "execution_count": 147
        }
      ]
    },
    {
      "cell_type": "code",
      "metadata": {
        "colab": {
          "base_uri": "https://localhost:8080/",
          "height": 142
        },
        "id": "UtwPh51ja6bI",
        "outputId": "5c7b8f1b-e5df-4ede-ba18-42ed68e1d28b"
      },
      "source": [
        "df.cov()"
      ],
      "execution_count": 148,
      "outputs": [
        {
          "output_type": "execute_result",
          "data": {
            "text/html": [
              "<div>\n",
              "<style scoped>\n",
              "    .dataframe tbody tr th:only-of-type {\n",
              "        vertical-align: middle;\n",
              "    }\n",
              "\n",
              "    .dataframe tbody tr th {\n",
              "        vertical-align: top;\n",
              "    }\n",
              "\n",
              "    .dataframe thead th {\n",
              "        text-align: right;\n",
              "    }\n",
              "</style>\n",
              "<table border=\"1\" class=\"dataframe\">\n",
              "  <thead>\n",
              "    <tr style=\"text-align: right;\">\n",
              "      <th></th>\n",
              "      <th>Happiness Score</th>\n",
              "      <th>Logged GDP per capita</th>\n",
              "      <th>Perceptions of corruption.1</th>\n",
              "    </tr>\n",
              "  </thead>\n",
              "  <tbody>\n",
              "    <tr>\n",
              "      <th>Happiness Score</th>\n",
              "      <td>0.389230</td>\n",
              "      <td>0.389048</td>\n",
              "      <td>-0.175111</td>\n",
              "    </tr>\n",
              "    <tr>\n",
              "      <th>Logged GDP per capita</th>\n",
              "      <td>0.389048</td>\n",
              "      <td>0.813985</td>\n",
              "      <td>-0.137090</td>\n",
              "    </tr>\n",
              "    <tr>\n",
              "      <th>Perceptions of corruption.1</th>\n",
              "      <td>-0.175111</td>\n",
              "      <td>-0.137090</td>\n",
              "      <td>0.082714</td>\n",
              "    </tr>\n",
              "  </tbody>\n",
              "</table>\n",
              "</div>"
            ],
            "text/plain": [
              "                             Happiness Score  ...  Perceptions of corruption.1\n",
              "Happiness Score                     0.389230  ...                    -0.175111\n",
              "Logged GDP per capita               0.389048  ...                    -0.137090\n",
              "Perceptions of corruption.1        -0.175111  ...                     0.082714\n",
              "\n",
              "[3 rows x 3 columns]"
            ]
          },
          "metadata": {
            "tags": []
          },
          "execution_count": 148
        }
      ]
    },
    {
      "cell_type": "markdown",
      "metadata": {
        "id": "wZ4cK3u8a_vT"
      },
      "source": [
        "Estadística de la economía"
      ]
    },
    {
      "cell_type": "code",
      "metadata": {
        "id": "t8FyCAT5bENM"
      },
      "source": [
        "#df['Logged GDP per capita '].describe()"
      ],
      "execution_count": 137,
      "outputs": []
    },
    {
      "cell_type": "markdown",
      "metadata": {
        "id": "-FAr3ZgKGadR"
      },
      "source": [
        "## Graficas"
      ]
    },
    {
      "cell_type": "code",
      "metadata": {
        "colab": {
          "base_uri": "https://localhost:8080/",
          "height": 294
        },
        "id": "dGK-loh3GzTt",
        "outputId": "fbdc1f0c-a06b-44ca-b7ac-c2d42a73ea07"
      },
      "source": [
        "tb.plot.bar()"
      ],
      "execution_count": 107,
      "outputs": [
        {
          "output_type": "execute_result",
          "data": {
            "text/plain": [
              "<matplotlib.axes._subplots.AxesSubplot at 0x7f7cba67c3d0>"
            ]
          },
          "metadata": {
            "tags": []
          },
          "execution_count": 107
        },
        {
          "output_type": "display_data",
          "data": {
            "image/png": "[encoded data removed]",
            "text/plain": [
              "<Figure size 432x288 with 1 Axes>"
            ]
          },
          "metadata": {
            "tags": [],
            "needs_background": "light"
          }
        }
      ]
    }
  ]
}