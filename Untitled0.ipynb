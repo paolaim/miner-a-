{
  "nbformat": 4,
  "nbformat_minor": 0,
  "metadata": {
    "colab": {
      "name": "Untitled0.ipynb",
      "provenance": [],
      "collapsed_sections": [],
      "authorship_tag": "ABX9TyPe4WB+7bazMlm0Xr7n0way",
      "include_colab_link": true
    },
    "kernelspec": {
      "name": "python3",
      "display_name": "Python 3"
    }
  },
  "cells": [
    {
      "cell_type": "markdown",
      "metadata": {
        "id": "view-in-github",
        "colab_type": "text"
      },
      "source": [
        "<a href=\"https://colab.research.google.com/github/paolaim/mineria-datos/blob/gh-pages/Untitled0.ipynb\" target=\"_parent\"><img src=\"https://colab.research.google.com/assets/colab-badge.svg\" alt=\"Open In Colab\"/></a>"
      ]
    },
    {
      "cell_type": "markdown",
      "metadata": {
        "id": "HPXrNTT_5ZTb"
      },
      "source": [
        ""
      ]
    },
    {
      "cell_type": "markdown",
      "metadata": {
        "id": "S5vPFqF3-OcN"
      },
      "source": [
        "Ejercicio 1:\r\n",
        "Realiza una variable con tu matricula y realiza una secuencia de imprimir con tu nombre y tu matricula concatenados.\r\n",
        "\r\n",
        "Programa 2: Matemáticas sencillas"
      ]
    },
    {
      "cell_type": "code",
      "metadata": {
        "colab": {
          "base_uri": "https://localhost:8080/",
          "height": 35
        },
        "id": "ajym-uSN6KEJ",
        "outputId": "5e276e4f-69a2-4843-fd48-362a8683799c"
      },
      "source": [
        "#EJERCICIO_1\r\n",
        "str_mat= '1731502 '\r\n",
        "str_nom= 'Paola Ibarra Medrano ' \r\n",
        "str_mat + str_nom "
      ],
      "execution_count": 1,
      "outputs": [
        {
          "output_type": "execute_result",
          "data": {
            "application/vnd.google.colaboratory.intrinsic+json": {
              "type": "string"
            },
            "text/plain": [
              "'1731502 Paola Ibarra Medrano '"
            ]
          },
          "metadata": {
            "tags": []
          },
          "execution_count": 1
        }
      ]
    },
    {
      "cell_type": "markdown",
      "metadata": {
        "id": "LXwq6CKC-Q2Z"
      },
      "source": [
        "\r\n",
        "Ejercicio 2:\r\n",
        "Pidiendo el input del usuario pide dos números y crea una pequeña calculadora con los operadores básicos de suma, resta, multiplicación, división, y exponente."
      ]
    },
    {
      "cell_type": "code",
      "metadata": {
        "colab": {
          "base_uri": "https://localhost:8080/"
        },
        "id": "ZgNIbvTh-upq",
        "outputId": "ed4892ea-c52d-4e0a-a00c-389e41696e2c"
      },
      "source": [
        "#EJERCICIO_2\r\n",
        "a= int(input(\"introduce un número: \"))\r\n",
        "b= int(input(\"introduce otro número: \"))\r\n",
        "s= a+b\r\n",
        "r= a-b\r\n",
        "m= a*b \r\n",
        "d= a/b\r\n",
        "e= a**b\r\n",
        "print(\"suma= %d, resta= %d, multiplicacion= %d, division= %d, exponente= %d\" %(s, r, m, d, e))\r\n"
      ],
      "execution_count": 3,
      "outputs": [
        {
          "output_type": "stream",
          "text": [
            "introduce un número: 10\n",
            "introduce otro número: 5\n",
            "suma= 15, resta= 5, multiplicacion= 50, division= 2, exponente= 100000\n"
          ],
          "name": "stdout"
        }
      ]
    },
    {
      "cell_type": "markdown",
      "metadata": {
        "id": "eodPhMrO-ULY"
      },
      "source": [
        "\r\n",
        "Ejercicio 3:\r\n",
        "Con loop while o for, realiza una lista de 10 numeros multiplos de 3, y después realiza una función de loop que sume todos los números dentro del arreglo."
      ]
    },
    {
      "cell_type": "code",
      "metadata": {
        "colab": {
          "base_uri": "https://localhost:8080/"
        },
        "id": "2OI90hP3AbR3",
        "outputId": "2f9d394c-a9d9-44f8-849d-ca91b0d387e0"
      },
      "source": [
        "#EJERCICIO_3\r\n",
        "aux = 0\r\n",
        "for i in range(1,31):\r\n",
        "    s = i%3\r\n",
        "    if s==0:\r\n",
        "        print(i)\r\n",
        "        aux = i + aux\r\n",
        "\r\n",
        "print(\"La suma de los múltiplos de 3 es: %d\" %(aux))"
      ],
      "execution_count": 11,
      "outputs": [
        {
          "output_type": "stream",
          "text": [
            "3\n",
            "6\n",
            "9\n",
            "12\n",
            "15\n",
            "18\n",
            "21\n",
            "24\n",
            "27\n",
            "30\n",
            "La suma de los múltiplos de 3 es: 165\n"
          ],
          "name": "stdout"
        }
      ]
    },
    {
      "cell_type": "markdown",
      "metadata": {
        "id": "NQ3g_BVf-YgR"
      },
      "source": [
        "Ejercicio 4\r\n",
        "Con una función de if else, revisar si un número es par o es impar.\r\n",
        "Con una función de if else, revisar si un número es primo o no.\r\n",
        "Uso de funciones en python:"
      ]
    },
    {
      "cell_type": "code",
      "metadata": {
        "colab": {
          "base_uri": "https://localhost:8080/"
        },
        "id": "yIb1W4kQ7egw",
        "outputId": "dc08dbac-8256-4fb2-b223-8612d1bae34f"
      },
      "source": [
        "#EJERCICIO_4\r\n",
        "a = int(input(\"Ingresa un número: \"))\r\n",
        "b = a%2\r\n",
        "if b==0:\r\n",
        "    print(\"El número %d es par\" %(a))\r\n",
        "else:\r\n",
        "    print(\"El número %d es impar\" %(a))\r\n",
        "def primo(a):\r\n",
        "    for x in range(2, a):\r\n",
        "        if a % x == 0:\r\n",
        "            print(\"El número %d no es primo\"%(a))\r\n",
        "            return False\r\n",
        "    print(\"El número %d es primo\"%(a))\r\n",
        "    return True\r\n",
        "primo(a)"
      ],
      "execution_count": 13,
      "outputs": [
        {
          "output_type": "stream",
          "text": [
            "Ingresa un número: 9\n",
            "El número 9 es impar\n",
            "El número 9 no es primo\n"
          ],
          "name": "stdout"
        },
        {
          "output_type": "execute_result",
          "data": {
            "text/plain": [
              "False"
            ]
          },
          "metadata": {
            "tags": []
          },
          "execution_count": 13
        }
      ]
    },
    {
      "cell_type": "markdown",
      "metadata": {
        "id": "aEImInhS-cLM"
      },
      "source": [
        "Ejercicio 5\r\n",
        "Utilizando diferentes clases en python, crea una calculadora con los operadores básicos de suma, resta, multiplicación, división, y exponente.\r\n",
        "\r\n",
        "Funciones matemáticas en la librería de math en python:"
      ]
    },
    {
      "cell_type": "code",
      "metadata": {
        "colab": {
          "base_uri": "https://localhost:8080/",
          "height": 204
        },
        "id": "82xU36BB7iVg",
        "outputId": "f0b84ba9-183f-42ed-9a90-6f8b89b2e65d"
      },
      "source": [
        "#EJERCICIO_5\r\n",
        "def calcu1(a,b): #usando diccionario\r\n",
        "    suma=a+b\r\n",
        "    resta=a-b\r\n",
        "    multi=a*b\r\n",
        "    div=a/b\r\n",
        "    e=a**b\r\n",
        "    return {\"Suma\":suma,\"Resta\":resta,\"Multiplicación\":multi,\"División\":div,\"Exponente\":e}\r\n",
        "calcu1(3,2)\r\n",
        "import pandas as pd\r\n",
        "def calcu2(a,b): #usando dataframe\r\n",
        "    suma=a+b\r\n",
        "    resta=a-b\r\n",
        "    multi=a*b\r\n",
        "    div=a/b\r\n",
        "    e=a**b\r\n",
        "    return pd.DataFrame([suma,resta,multi,div,e],index=[\"Suma\",\"Resta\",\"Multiplicación\",\"División\",\"Exponente\"],columns=[\"Resultados\"])\r\n",
        "calcu2(3,1)"
      ],
      "execution_count": 16,
      "outputs": [
        {
          "output_type": "execute_result",
          "data": {
            "text/html": [
              "<div>\n",
              "<style scoped>\n",
              "    .dataframe tbody tr th:only-of-type {\n",
              "        vertical-align: middle;\n",
              "    }\n",
              "\n",
              "    .dataframe tbody tr th {\n",
              "        vertical-align: top;\n",
              "    }\n",
              "\n",
              "    .dataframe thead th {\n",
              "        text-align: right;\n",
              "    }\n",
              "</style>\n",
              "<table border=\"1\" class=\"dataframe\">\n",
              "  <thead>\n",
              "    <tr style=\"text-align: right;\">\n",
              "      <th></th>\n",
              "      <th>Resultados</th>\n",
              "    </tr>\n",
              "  </thead>\n",
              "  <tbody>\n",
              "    <tr>\n",
              "      <th>Suma</th>\n",
              "      <td>4.0</td>\n",
              "    </tr>\n",
              "    <tr>\n",
              "      <th>Resta</th>\n",
              "      <td>2.0</td>\n",
              "    </tr>\n",
              "    <tr>\n",
              "      <th>Multiplicación</th>\n",
              "      <td>3.0</td>\n",
              "    </tr>\n",
              "    <tr>\n",
              "      <th>División</th>\n",
              "      <td>3.0</td>\n",
              "    </tr>\n",
              "    <tr>\n",
              "      <th>Exponente</th>\n",
              "      <td>3.0</td>\n",
              "    </tr>\n",
              "  </tbody>\n",
              "</table>\n",
              "</div>"
            ],
            "text/plain": [
              "                Resultados\n",
              "Suma                   4.0\n",
              "Resta                  2.0\n",
              "Multiplicación         3.0\n",
              "División               3.0\n",
              "Exponente              3.0"
            ]
          },
          "metadata": {
            "tags": []
          },
          "execution_count": 16
        }
      ]
    },
    {
      "cell_type": "markdown",
      "metadata": {
        "id": "HHF8DSQh-fz7"
      },
      "source": [
        "Tuplas\r\n",
        "Crear una variable flotante, integer, boleana y compleja e imprimir el tipo de variable que es.\r\n",
        "\r\n",
        "Crear una tupla con valores enteros imprimir el primer y ultimo valor.\r\n",
        "\r\n",
        "Añadir 3 valores de string a la tupla.\r\n",
        "\r\n",
        "Verificar si una variable existe dentro de la tupla."
      ]
    },
    {
      "cell_type": "code",
      "metadata": {
        "colab": {
          "base_uri": "https://localhost:8080/"
        },
        "id": "6JBxsDyB81Si",
        "outputId": "552f0860-d9e1-4ec0-9ddf-3e966a29bdbd"
      },
      "source": [
        "a = float(35.41)\r\n",
        "b = int(47)\r\n",
        "c = bool(1>10)\r\n",
        "d = complex(4)\r\n",
        "print(\"a es tipo:\", type(a))\r\n",
        "print(\"b es tipo:\", type(b))\r\n",
        "print(\"c es tipo:\", type(c))\r\n",
        "print(\"d es tipo:\", type(d))\r\n",
        "\r\n",
        "\r\n",
        "enteros = (40,21,45,36,87)\r\n",
        "print(enteros[0], enteros[4])\r\n",
        "enteros = (40, 'Hola', 21, 45, 'Que', 36, 87, 'Haces')\r\n",
        "print('Hola' in enteros)"
      ],
      "execution_count": 18,
      "outputs": [
        {
          "output_type": "stream",
          "text": [
            "a es tipo: <class 'float'>\n",
            "b es tipo: <class 'int'>\n",
            "c es tipo: <class 'bool'>\n",
            "d es tipo: <class 'complex'>\n",
            "40 87\n",
            "True\n"
          ],
          "name": "stdout"
        }
      ]
    },
    {
      "cell_type": "markdown",
      "metadata": {
        "id": "bPCt9ZcW--5e"
      },
      "source": [
        "Listas\r\n",
        "Crear una lista con 40 elementos aleatorios enteros.\r\n",
        "Con una funcion (def) crear dos listas nuevas a partir de la lista creada por numeros aleatorios, en la cual en una esten los elementos pares, y en la otra los elementos impares.\r\n",
        "Crear dos variables con la longitud de ambas listas nuevas e imprimir las variables.\r\n",
        "Ordenar los elementos de la lista par de mayor a menor, y los de la lista impar de menor a mayor.\r\n",
        "Utilizar al menos cuatro de las funciones de listas en python en la lista original de 40 elementos."
      ]
    },
    {
      "cell_type": "code",
      "metadata": {
        "colab": {
          "base_uri": "https://localhost:8080/"
        },
        "id": "DSqOR3cf_HJF",
        "outputId": "9c590eea-ba4a-4be9-d6f0-8f8ffdd3b468"
      },
      "source": [
        "import random as r\r\n",
        "lista = range(1,100)\r\n",
        "a = (r.sample(lista,40))\r\n",
        "print(a)\r\n",
        "def impar(a):\r\n",
        "    lis=[]\r\n",
        "    for x in range(len(a)):\r\n",
        "        if a[x]%2:\r\n",
        "            lis.append(a[x])\r\n",
        "    return lis\r\n",
        "\r\n",
        "def par(a):\r\n",
        "    li=[]\r\n",
        "    for x in range(len(a)):\r\n",
        "        b= a[x]%2\r\n",
        "        if b==0:\r\n",
        "            li.append(a[x])\r\n",
        "    return li\r\n",
        "\r\n",
        "listaimp= impar(a)\r\n",
        "listapar= par(a)\r\n",
        "listaimp.sort()\r\n",
        "listapar.sort(reverse=True)\r\n",
        "print(listaimp)\r\n",
        "print(listapar)"
      ],
      "execution_count": 19,
      "outputs": [
        {
          "output_type": "stream",
          "text": [
            "[91, 86, 29, 2, 43, 16, 93, 46, 66, 69, 82, 52, 26, 96, 24, 25, 34, 81, 42, 57, 74, 38, 7, 62, 61, 98, 97, 13, 15, 78, 39, 21, 20, 1, 48, 33, 28, 37, 14, 56]\n",
            "[1, 7, 13, 15, 21, 25, 29, 33, 37, 39, 43, 57, 61, 69, 81, 91, 93, 97]\n",
            "[98, 96, 86, 82, 78, 74, 66, 62, 56, 52, 48, 46, 42, 38, 34, 28, 26, 24, 20, 16, 14, 2]\n"
          ],
          "name": "stdout"
        }
      ]
    },
    {
      "cell_type": "markdown",
      "metadata": {
        "id": "M92FaBGR_GwS"
      },
      "source": [
        "Diccionarios\r\n",
        "Crear un diccionario de 6 personas que conozcas con su primer nombre y su edad.\r\n",
        "Crear una lista con los valores de la edad y reacomodar la lista de menor a mayor valor.\r\n",
        "Usando el diccionario y un loop, imprimir solo los nombres.\r\n",
        "Añadir dos personas nuevas a tu diccionario, incluyendo edad."
      ]
    },
    {
      "cell_type": "code",
      "metadata": {
        "colab": {
          "base_uri": "https://localhost:8080/"
        },
        "id": "lv5hD1cb_Q6L",
        "outputId": "71824dac-5e7c-40af-d7d4-705d59edea81"
      },
      "source": [
        "diccionario = {'Nombre': ['luis ','esther','julia','belen','paola','elena','daniel','oscar'], 'Edad':[62,61,27,24,21,49,24,25]}\r\n",
        "lista = diccionario['Edad']\r\n",
        "lista.sort()\r\n",
        "print(lista)\r\n",
        "for x in range(len(diccionario['Nombre'])):\r\n",
        "    print(diccionario['Nombre'][x])"
      ],
      "execution_count": 20,
      "outputs": [
        {
          "output_type": "stream",
          "text": [
            "[21, 24, 24, 25, 27, 49, 61, 62]\n",
            "luis \n",
            "esther\n",
            "julia\n",
            "belen\n",
            "paola\n",
            "elena\n",
            "daniel\n",
            "oscar\n"
          ],
          "name": "stdout"
        }
      ]
    },
    {
      "cell_type": "markdown",
      "metadata": {
        "id": "mcxgMTJpAd4B"
      },
      "source": [
        "Sets\r\n",
        "Crea un set con 100 numeros aleatorios enteros del 1 al 25.\r\n",
        "Comprueba la longitud de tu set.\r\n",
        "Crea una lista de 5 numeros aleatorios del 1 al 10 y comprueba si cada valor aparece en el set inicial.\r\n"
      ]
    },
    {
      "cell_type": "code",
      "metadata": {
        "colab": {
          "base_uri": "https://localhost:8080/"
        },
        "id": "VoF2kZfgAhU-",
        "outputId": "ce993062-425c-42d9-ce6f-2d81079fa883"
      },
      "source": [
        "import random as r\r\n",
        "s1 = set()\r\n",
        "i=0\r\n",
        "while i < 100:\r\n",
        "    s1.add(r.randint(1,25))\r\n",
        "    i = i+1\r\n",
        "print(s1)\r\n",
        "len(s1)\r\n",
        "print(\"La longitud del set es de %d\"%(len(s1)))\r\n",
        "\r\n",
        "b = range(1,11)\r\n",
        "lista = (r.sample(b,5))\r\n",
        "print(lista)\r\n",
        "\r\n",
        "for x in range(len(lista)):\r\n",
        "    print(x+1 in s1)"
      ],
      "execution_count": 21,
      "outputs": [
        {
          "output_type": "stream",
          "text": [
            "{1, 2, 3, 4, 5, 6, 7, 8, 9, 10, 11, 12, 13, 14, 15, 16, 17, 18, 19, 20, 21, 22, 23, 24, 25}\n",
            "La longitud del set es de 25\n",
            "[1, 4, 10, 8, 2]\n",
            "True\n",
            "True\n",
            "True\n",
            "True\n",
            "True\n"
          ],
          "name": "stdout"
        }
      ]
    }
  ]
}